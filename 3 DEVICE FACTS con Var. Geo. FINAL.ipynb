{
    "cells": [
        {
            "cell_type": "code",
            "execution_count": 1,
            "metadata": {},
            "outputs": [
                {
                    "name": "stdout",
                    "output_type": "stream",
                    "text": "Waiting for a Spark session to start...\nSpark Initialization Done! ApplicationId = app-20191126154004-0000\nKERNEL_ID = 3267b70d-3ac2-4aa0-a33c-d5f8ca1bfa77\n"
                }
            ],
            "source": "# The code was removed by Watson Studio for sharing."
        },
        {
            "cell_type": "markdown",
            "metadata": {
                "collapsed": true
            },
            "source": "# <center> Create Device Facts </center>\n\nIn the present notebook we have the code used to summarize and get the Device Facts from a data set of trips."
        },
        {
            "cell_type": "code",
            "execution_count": 2,
            "metadata": {},
            "outputs": [],
            "source": "# Spark required imports\nfrom pyspark.sql import SparkSession\nfrom pyspark.sql import types\nfrom pyspark.sql import Window\nfrom pyspark.sql.types import *\nimport pyspark.sql.functions as F\nfrom pyspark.sql.functions import when\n\nimport pandas as pd\n\n# Access to IBM Cloud Object Storage\nimport ibmos2spark\n\n# Python Utilities\nfrom datetime import datetime"
        },
        {
            "cell_type": "code",
            "execution_count": 3,
            "metadata": {},
            "outputs": [],
            "source": "\n\nimport scipy\nfrom scipy import stats\nimport numpy as np, statsmodels.stats.api as sms\nfrom scipy.stats import wilcoxon\nfrom scipy.stats import mannwhitneyu\nfrom scipy.stats import kruskal\nimport itertools\nimport seaborn as sns\nimport matplotlib.pyplot as plt\n\n"
        },
        {
            "cell_type": "markdown",
            "metadata": {},
            "source": "# Service Credentials"
        },
        {
            "cell_type": "code",
            "execution_count": 4,
            "metadata": {},
            "outputs": [],
            "source": "# The code was removed by Watson Studio for sharing."
        },
        {
            "cell_type": "markdown",
            "metadata": {},
            "source": "Load the trips data set."
        },
        {
            "cell_type": "code",
            "execution_count": 5,
            "metadata": {},
            "outputs": [
                {
                    "name": "stdout",
                    "output_type": "stream",
                    "text": "Done\nroot\n |-- DeviceId: long (nullable = true)\n |-- TripID: long (nullable = true)\n |-- Dist_km: double (nullable = true)\n |-- Duration_h: double (nullable = true)\n |-- DistanciaST: double (nullable = true)\n |-- DuracionST_h: double (nullable = true)\n |-- Dur_50_h: double (nullable = true)\n |-- Dur_70_h: double (nullable = true)\n |-- Dur_80_h: double (nullable = true)\n |-- Dur_90_h: double (nullable = true)\n |-- Dur_100_h: double (nullable = true)\n |-- Dist_50: double (nullable = true)\n |-- Dist_70: double (nullable = true)\n |-- Dist_80: double (nullable = true)\n |-- Dist_90: double (nullable = true)\n |-- Dist_100: double (nullable = true)\n |-- Latitude_ON: double (nullable = true)\n |-- Longitude_ON: double (nullable = true)\n |-- EC_Time_ON: timestamp (nullable = true)\n |-- Latitude_OFF: double (nullable = true)\n |-- Longitude_OFF: double (nullable = true)\n |-- EC_Time_OFF: timestamp (nullable = true)\n |-- DayTime: string (nullable = true)\n |-- DayType: string (nullable = true)\n |-- DayWeek: string (nullable = true)\n |-- Month: string (nullable = true)\n |-- Date: date (nullable = true)\n |-- ON_ID: string (nullable = true)\n |-- OFF_ID: string (nullable = true)\n |-- ON_N3: string (nullable = true)\n |-- ON_N2: string (nullable = true)\n |-- ON_N1: string (nullable = true)\n |-- OFF_N3: string (nullable = true)\n |-- OFF_N2: string (nullable = true)\n |-- OFF_N1: string (nullable = true)\n |-- ViajeInterparroquial: integer (nullable = true)\n |-- ViajeIntercantonal: integer (nullable = true)\n |-- ViajeInterprovincial: integer (nullable = true)\n\n"
                }
            ],
            "source": "name = \"TripFacts5_Geo\"\nTrips_geo = spark.read.parquet(local_cos.url(name, local_bucket))\nprint('Done')\n#print('Number of rows: ', \"{:,}\".format(Trips_geo.count()))\nTrips_geo.printSchema()"
        },
        {
            "cell_type": "code",
            "execution_count": 14,
            "metadata": {
                "scrolled": false
            },
            "outputs": [
                {
                    "name": "stdout",
                    "output_type": "stream",
                    "text": "+--------+--------+----------+-------+-------------------+-------------------+-----+\n|DeviceId|  TripID|      Date|DayWeek|         EC_Time_ON|        EC_Time_OFF|Month|\n+--------+--------+----------+-------+-------------------+-------------------+-----+\n|   28574|28130155|2019-07-26|      5|2019-07-26 11:25:37|2019-07-26 11:53:06|    7|\n|   28574|28143346|2019-07-26|      5|2019-07-26 13:26:32|2019-07-26 13:52:32|    7|\n|   28574|28549192|2019-07-31|      3|2019-07-31 07:33:00|2019-07-31 07:45:26|    7|\n|   28574|28594688|2019-07-31|      3|2019-07-31 15:04:59|2019-07-31 15:09:23|    7|\n|   28574|29274826|2019-08-07|      3|2019-08-07 19:30:56|2019-08-07 19:44:18|    8|\n|   28574|29682824|2019-08-12|      1|2019-08-12 13:35:00|2019-08-12 13:45:59|    8|\n|   28574|29844431|2019-08-14|      3|2019-08-14 08:39:52|2019-08-14 08:55:13|    8|\n|   28574|29867804|2019-08-14|      3|2019-08-14 12:28:47|2019-08-14 12:59:30|    8|\n|   28574|29871554|2019-08-14|      3|2019-08-14 13:05:33|2019-08-14 13:09:08|    8|\n|   28574|29970021|2019-08-15|      4|2019-08-15 13:22:49|2019-08-15 13:33:46|    8|\n|   28574|29978970|2019-08-15|      4|2019-08-15 14:53:38|2019-08-15 15:12:35|    8|\n|   28574|29989288|2019-08-15|      4|2019-08-15 16:32:31|2019-08-15 16:38:13|    8|\n|   28574|30055157|2019-08-16|      5|2019-08-16 11:20:04|2019-08-16 11:25:12|    8|\n|   28574|30072710|2019-08-16|      5|2019-08-16 13:51:37|2019-08-16 13:55:48|    8|\n|   28574|30573832|2019-08-21|      3|2019-08-21 18:08:18|2019-08-21 18:14:17|    8|\n|   28574|31015379|2019-08-26|      1|2019-08-26 11:52:20|2019-08-26 12:00:17|    8|\n|   28574|31040627|2019-08-26|      1|2019-08-26 15:41:48|2019-08-26 15:46:26|    8|\n|   28574|31188582|2019-08-28|      3|2019-08-28 07:27:45|2019-08-28 07:48:44|    8|\n|   28574|31262055|2019-08-28|      3|2019-08-28 18:44:41|2019-08-28 19:00:45|    8|\n|   28574|31417886|2019-08-30|      5|2019-08-30 11:05:33|2019-08-30 11:16:49|    8|\n|   28574|31696866|2019-09-02|      1|2019-09-02 08:55:50|2019-09-02 09:07:31|    9|\n|   28574|31736426|2019-09-02|      1|2019-09-02 14:52:09|2019-09-02 15:11:50|    9|\n|   28574|31768217|2019-09-02|      1|2019-09-02 19:14:33|2019-09-02 19:34:29|    9|\n|   28574|31957410|2019-09-04|      3|2019-09-04 16:07:20|2019-09-04 16:20:31|    9|\n|   28574|31966672|2019-09-04|      3|2019-09-04 17:28:51|2019-09-04 17:45:24|    9|\n|   28574|32145778|2019-09-06|      5|2019-09-06 12:25:34|2019-09-06 12:35:05|    9|\n|   28574|32414730|2019-09-09|      1|2019-09-09 07:51:02|2019-09-09 08:09:57|    9|\n|   28574|32429205|2019-09-09|      1|2019-09-09 10:09:44|2019-09-09 10:14:32|    9|\n|   28574|32445722|2019-09-09|      1|2019-09-09 12:26:49|2019-09-09 12:37:44|    9|\n|   28574|32811472|2019-09-12|      4|2019-09-12 19:17:26|2019-09-12 19:29:47|    9|\n|   28574|32892230|2019-09-13|      5|2019-09-13 15:14:48|2019-09-13 15:25:57|    9|\n|   28574|32921676|2019-09-13|      5|2019-09-13 19:16:23|2019-09-13 19:23:56|    9|\n|   28574|32923186|2019-09-13|      5|2019-09-13 19:29:38|2019-09-13 19:40:40|    9|\n|   28574|33228492|2019-09-16|      1|2019-09-16 20:07:59|2019-09-16 20:26:21|    9|\n|   28574|33230257|2019-09-16|      1|2019-09-16 20:29:37|2019-09-16 20:33:52|    9|\n|   28574|33367633|2019-09-18|      3|2019-09-18 09:15:45|2019-09-18 09:28:07|    9|\n|   28574|33430376|2019-09-18|      3|2019-09-18 18:06:04|2019-09-18 18:55:55|    9|\n|   28574|33509829|2019-09-19|      4|2019-09-19 13:32:33|2019-09-19 14:00:02|    9|\n|   28574|33548804|2019-09-19|      4|2019-09-19 18:32:33|2019-09-19 18:48:27|    9|\n|   28574|33924552|2019-09-23|      1|2019-09-23 12:41:33|2019-09-23 12:51:27|    9|\n|   28574|33931808|2019-09-23|      1|2019-09-23 13:36:46|2019-09-23 13:54:49|    9|\n|   28574|33971548|2019-09-23|      1|2019-09-23 19:05:39|2019-09-23 19:21:38|    9|\n|   28574|34100877|2019-09-25|      3|2019-09-25 06:06:39|2019-09-25 06:13:13|    9|\n|   28574|34110441|2019-09-25|      3|2019-09-25 07:44:22|2019-09-25 08:21:33|    9|\n|   28574|34143407|2019-09-25|      3|2019-09-25 12:36:40|2019-09-25 13:06:10|    9|\n|   28574|34197283|2019-09-25|      3|2019-09-25 20:14:39|2019-09-25 20:19:38|    9|\n|   28574|34211533|2019-09-26|      4|2019-09-26 06:12:37|2019-09-26 06:18:21|    9|\n|   28574|34221174|2019-09-26|      4|2019-09-26 07:52:01|2019-09-26 08:22:39|    9|\n|   28574|34255169|2019-09-26|      4|2019-09-26 12:49:53|2019-09-26 13:18:51|    9|\n|   28574|34292475|2019-09-26|      4|2019-09-26 17:50:35|2019-09-26 18:28:00|    9|\n|   28574|34304911|2019-09-26|      4|2019-09-26 19:29:45|2019-09-26 19:39:39|    9|\n|   28574|34380492|2019-09-27|      5|2019-09-27 14:28:00|2019-09-27 14:38:02|    9|\n|   28574|34481815|2019-09-28|      6|2019-09-28 12:31:25|2019-09-28 13:16:31|    9|\n+--------+--------+----------+-------+-------------------+-------------------+-----+\n\n"
                }
            ],
            "source": "Trips_geo.select('DeviceId', 'TripID', 'Date', 'DayWeek', 'EC_Time_ON', 'EC_Time_OFF', 'Month').where((F.col('DeviceId')==28574)&(F.col('Date')>='2019-07-25')).orderBy('EC_Time_ON').show(200)"
        },
        {
            "cell_type": "markdown",
            "metadata": {},
            "source": "### Data set with installation dates "
        },
        {
            "cell_type": "code",
            "execution_count": 6,
            "metadata": {},
            "outputs": [
                {
                    "name": "stdout",
                    "output_type": "stream",
                    "text": "root\n |-- DeviceId: integer (nullable = true)\n |-- installeddate: string (nullable = true)\n\n"
                }
            ],
            "source": "\n\nname = 'data_asset/Dispositivos_Prod_Ene-Sep-2019_install_date_7ffcc8d3'\nspark_dev_inst = spark.read.parquet(local_cos.url(name, local_bucket))\nspark_dev_inst.printSchema()\n\n"
        },
        {
            "cell_type": "markdown",
            "metadata": {},
            "source": "Now, let\u2019s filter the devices which don\u2019t have enough telemetry to be analyzed. We will only select devices which have at least 90 days of installation until September 30, 2019 and at least 90 days of telemetry information."
        },
        {
            "cell_type": "code",
            "execution_count": 7,
            "metadata": {},
            "outputs": [
                {
                    "name": "stdout",
                    "output_type": "stream",
                    "text": "************ Datos filtrados *************\n"
                }
            ],
            "source": "\n\ndev_df = Trips_geo.select('DeviceId', 'Date').groupBy('DeviceId').agg(F.min('Date').alias('min_date'),F.max('Date').alias('max_date'))\n\ndev_df = dev_df.withColumn('days_passed', F.datediff(F.lit(F.col('max_date')), F.lit(F.col('min_date'))))\ndev_df = dev_df.where('days_passed>89')\ndev_df = dev_df.join(spark_dev_inst.select(\"DeviceId\", 'installeddate'), [\"DeviceId\"])\ndev_df = dev_df.dropDuplicates()\ndev_df = dev_df.withColumn(\"circ_time\", F.datediff(F.to_date(F.lit(\"2019-09-30\")), F.lit(F.col('installeddate'))))\ndev_df = dev_df.withColumn('dias_circ', F.when(F.col('circ_time')<F.col('days_passed'),F.col('days_passed')).otherwise(F.col('circ_time')))\ndate_df = dev_df.where('dias_circ>89').toPandas()\nl_dev = list(date_df['DeviceId'] )\n\n\nTrips_f = Trips_geo.where(Trips_geo.DeviceId.isin(l_dev))\nTrips_f = Trips_f.dropDuplicates()\nprint(\"************ Datos filtrados *************\")"
        },
        {
            "cell_type": "markdown",
            "metadata": {},
            "source": "\n## Interparish, Intercantonal, Interprovince Trips\n\nThe Republic of Ecuador is divided into 24 provinces. Each province is divided into cantons and cantons are divided into parish. We have created the categories A, B, C and D for each trip:\n\n*\tTrip type A: when the ignition on is registered in a certain parish and the ignition off is registered in the same parish.\n*\tTrip type B: when the ignition on is registered in a certain parish but the ignition off is registered in another parish.\n*\tTrip type C: when the ignition on is registered in a certain canton but the ignition off is registered in another canton.\n*\tTrip type D: when the ignition on is registered in a certain province but the ignition off is registered in another province.\n"
        },
        {
            "cell_type": "code",
            "execution_count": 8,
            "metadata": {},
            "outputs": [],
            "source": "\n\nTrips_f = Trips_f.withColumn('Tipo_Viaje', F.when((F.col('ViajeInterparroquial')*F.col('ViajeIntercantonal')*F.col('ViajeInterprovincial'))>0,'D').otherwise(F.when((F.col('ViajeInterparroquial')*F.col('ViajeIntercantonal'))>0,'C').otherwise(F.when(F.col('ViajeInterparroquial')>0,'B').otherwise('A'))))\n\n"
        },
        {
            "cell_type": "markdown",
            "metadata": {},
            "source": "Collapse province of ignition off into the tree following categories.\n\n   * **Pich_y_alrededores**: Pichincha, Imbabura, Carchi, Esmeraldas, Cotopaxi, Napo, Pastaza, Santo Domingo de los Tsachilas, Tungurahua y Bol\u00edvar\n   * **Guayas_y_alrededores**: Guayas, Santa Elena, Manab\u00ed, Los Rios y El Oro\n   * **Otras** : Loja, Zamora Chinchipe, Azuay, Ca\u00f1ar, Zona No Delimitada, Morona Santiago y Orellana"
        },
        {
            "cell_type": "code",
            "execution_count": 9,
            "metadata": {},
            "outputs": [],
            "source": "cond = F.when(F.col('OFF_N1').isin(['Loja','Zamora Chinchipe', 'Azuay', 'Ca\u00c3\u00b1ar', \n                                    'Zona No Delimitada', 'Morona Santiago',\n                                    'Orellana']),'Otras').otherwise(F.when(F.col('OFF_N1').isin(['Guayas', 'Santa Elena', \n                                                                                                 'Manabi', 'Los Rios', 'El Oro']),'Guayas_y_alrededores').otherwise('Pich_y_alrededores'))\nTrips_f = Trips_f.withColumn('Provincia_OFF', cond)"
        },
        {
            "cell_type": "code",
            "execution_count": 10,
            "metadata": {},
            "outputs": [
                {
                    "data": {
                        "text/plain": "['DeviceId',\n 'TripID',\n 'Dist_km',\n 'Duration_h',\n 'DistanciaST',\n 'DuracionST_h',\n 'Dur_50_h',\n 'Dur_70_h',\n 'Dur_80_h',\n 'Dur_90_h',\n 'Dur_100_h',\n 'Dist_50',\n 'Dist_70',\n 'Dist_80',\n 'Dist_90',\n 'Dist_100',\n 'Latitude_ON',\n 'Longitude_ON',\n 'EC_Time_ON',\n 'Latitude_OFF',\n 'Longitude_OFF',\n 'EC_Time_OFF',\n 'DayTime',\n 'DayType',\n 'DayWeek',\n 'Month',\n 'Date',\n 'ON_ID',\n 'OFF_ID',\n 'ON_N3',\n 'ON_N2',\n 'ON_N1',\n 'OFF_N3',\n 'OFF_N2',\n 'OFF_N1',\n 'ViajeInterparroquial',\n 'ViajeIntercantonal',\n 'ViajeInterprovincial',\n 'Tipo_Viaje',\n 'Provincia_OFF']"
                    },
                    "execution_count": 10,
                    "metadata": {},
                    "output_type": "execute_result"
                }
            ],
            "source": "Trips_f.columns"
        },
        {
            "cell_type": "markdown",
            "metadata": {},
            "source": "## Compute Device Facts"
        },
        {
            "cell_type": "code",
            "execution_count": 11,
            "metadata": {},
            "outputs": [],
            "source": "# Variables por categor\u00edas de DayTime\nDevices_day = Trips_f.withColumn('DayTime_0_6_dist', when(((F.col(\"DayTime\")== 'Madrugada 0-3')|(F.col(\"DayTime\")== 'Madrugada 3-6')), F.col(\"Dist_km\")).otherwise(0))\nDevices_day = Devices_day.withColumn('DayTime_6_9_dist', when((F.col(\"DayTime\")== 'Manana 6-9'), F.col(\"Dist_km\")).otherwise(0))\nDevices_day = Devices_day.withColumn('DayTime_9_18_dist', when(((F.col(\"DayTime\")== 'Manana 9-12')|(F.col(\"DayTime\")== 'Tarde 12-15')|(F.col(\"DayTime\")== 'Tarde 15-18')), F.col(\"Dist_km\")).otherwise(0))\nDevices_day = Devices_day.withColumn('DayTime_18_21_dist', when((F.col(\"DayTime\")== 'Noche 18-21'), F.col(\"Dist_km\")).otherwise(0))\nDevices_day = Devices_day.withColumn('DayTime_21_24_dist', when((F.col(\"DayTime\")== 'Noche 21-24'), F.col(\"Dist_km\")).otherwise(0))"
        },
        {
            "cell_type": "code",
            "execution_count": 12,
            "metadata": {},
            "outputs": [],
            "source": "# Variables por categor\u00edas de DayTime\nDevices_day = Devices_day.withColumn('DayTime_0_6_dur', when(((F.col(\"DayTime\")== 'Madrugada 0-3')|(F.col(\"DayTime\")== 'Madrugada 3-6')), F.col(\"Duration_h\")).otherwise(0))\nDevices_day = Devices_day.withColumn('DayTime_6_9_dur', when((F.col(\"DayTime\")== 'Manana 6-9'), F.col(\"Duration_h\")).otherwise(0))\nDevices_day = Devices_day.withColumn('DayTime_9_18_dur', when(((F.col(\"DayTime\")== 'Manana 9-12')|(F.col(\"DayTime\")== 'Tarde 12-15')|(F.col(\"DayTime\")== 'Tarde 15-18')), F.col(\"Duration_h\")).otherwise(0))\nDevices_day = Devices_day.withColumn('DayTime_18_21_dur', when((F.col(\"DayTime\")== 'Noche 18-21'), F.col(\"Duration_h\")).otherwise(0))\nDevices_day = Devices_day.withColumn('DayTime_21_24_dur', when((F.col(\"DayTime\")== 'Noche 21-24'), F.col(\"Duration_h\")).otherwise(0))"
        },
        {
            "cell_type": "code",
            "execution_count": 13,
            "metadata": {},
            "outputs": [],
            "source": "# Variables por categor\u00edas de DayTime\nDevices_day = Devices_day.withColumn('N_Trips_DayTime_0_6', when(((F.col(\"DayTime\")== 'Madrugada 0-3')|(F.col(\"DayTime\")== 'Madrugada 3-6')), 1).otherwise(0))\nDevices_day = Devices_day.withColumn('N_Trips_DayTime_6_9', when((F.col(\"DayTime\")== 'Manana 6-9'), 1).otherwise(0))\nDevices_day = Devices_day.withColumn('N_Trips_DayTime_9_18', when(((F.col(\"DayTime\")== 'Manana 9-12')|(F.col(\"DayTime\")== 'Tarde 12-15')|(F.col(\"DayTime\")== 'Tarde 15-18')), 1).otherwise(0))\nDevices_day = Devices_day.withColumn('N_Trips_DayTime_18_21', when((F.col(\"DayTime\")== 'Noche 18-21'), 1).otherwise(0))\nDevices_day = Devices_day.withColumn('N_Trips_DayTime_21_24', when((F.col(\"DayTime\")== 'Noche 21-24'), 1).otherwise(0))"
        },
        {
            "cell_type": "code",
            "execution_count": 14,
            "metadata": {},
            "outputs": [],
            "source": "# Variables DayType\nDevices_day = Devices_day.withColumn('DT_Weekday_dist', F.when(F.col('DayType') == 'Weekday', F.col('Dist_km')).otherwise(0))\nDevices_day = Devices_day.withColumn('DT_Weekend_dist', F.when(F.col('DayType') == 'Weekend', F.col('Dist_km')).otherwise(0))\n\nDevices_day = Devices_day.withColumn('DT_Weekday_dur', F.when(F.col('DayType') == 'Weekday', F.col('Duration_h')).otherwise(0))\nDevices_day = Devices_day.withColumn('DT_Weekend_dur', F.when(F.col('DayType') == 'Weekend', F.col('Duration_h')).otherwise(0))\n\nDevices_day = Devices_day.withColumn('N_Trips_DT_Weekday', F.when(F.col('DayType') == 'Weekday', 1).otherwise(0))\nDevices_day = Devices_day.withColumn('N_Trips_DT_Weekend', F.when(F.col('DayType') == 'Weekend', 1).otherwise(0))"
        },
        {
            "cell_type": "code",
            "execution_count": 15,
            "metadata": {},
            "outputs": [],
            "source": "# Variables Tipo de viaje\nDevices_day = Devices_day.withColumn('Tipo_Viaje_A_dist', F.when(F.col('Tipo_Viaje') == 'A', F.col('Dist_km')).otherwise(0))\nDevices_day = Devices_day.withColumn('Tipo_Viaje_B_dist', F.when(F.col('Tipo_Viaje') == 'B', F.col('Dist_km')).otherwise(0))\nDevices_day = Devices_day.withColumn('Tipo_Viaje_C_dist', F.when(F.col('Tipo_Viaje') == 'C', F.col('Dist_km')).otherwise(0))\nDevices_day = Devices_day.withColumn('Tipo_Viaje_D_dist', F.when(F.col('Tipo_Viaje') == 'D', F.col('Dist_km')).otherwise(0))\n\n# Variables Tipo de viaje\nDevices_day = Devices_day.withColumn('Tipo_Viaje_A_dur', F.when(F.col('Tipo_Viaje') == 'A', F.col('Duration_h')).otherwise(0))\nDevices_day = Devices_day.withColumn('Tipo_Viaje_B_dur', F.when(F.col('Tipo_Viaje') == 'B', F.col('Duration_h')).otherwise(0))\nDevices_day = Devices_day.withColumn('Tipo_Viaje_C_dur', F.when(F.col('Tipo_Viaje') == 'C', F.col('Duration_h')).otherwise(0))\nDevices_day = Devices_day.withColumn('Tipo_Viaje_D_dur', F.when(F.col('Tipo_Viaje') == 'D', F.col('Duration_h')).otherwise(0))\n\n# Variables Tipo de viaje\nDevices_day = Devices_day.withColumn('N_Trips_Tipo_Viaje_A', F.when(F.col('Tipo_Viaje') == 'A', 1).otherwise(0))\nDevices_day = Devices_day.withColumn('N_Trips_Tipo_Viaje_B', F.when(F.col('Tipo_Viaje') == 'B', 1).otherwise(0))\nDevices_day = Devices_day.withColumn('N_Trips_Tipo_Viaje_C', F.when(F.col('Tipo_Viaje') == 'C', 1).otherwise(0))\nDevices_day = Devices_day.withColumn('N_Trips_Tipo_Viaje_D', F.when(F.col('Tipo_Viaje') == 'D', 1).otherwise(0))"
        },
        {
            "cell_type": "code",
            "execution_count": null,
            "metadata": {},
            "outputs": [],
            "source": ""
        },
        {
            "cell_type": "code",
            "execution_count": 16,
            "metadata": {},
            "outputs": [],
            "source": "# Variables de ubicaci\u00f3n\nDevices_day = Devices_day.withColumn('Guayas_y_alr_dist', F.when(F.col('Provincia_OFF') == 'Guayas_y_alrededores', F.col('Dist_km')).otherwise(0))\nDevices_day = Devices_day.withColumn('Pich_y_alr_dist', F.when(F.col('Provincia_OFF') == 'Pich_y_alrededores', F.col('Dist_km')).otherwise(0))\nDevices_day = Devices_day.withColumn('Otras_dist', F.when(F.col('Provincia_OFF') == 'Otras', F.col('Dist_km')).otherwise(0))\n\n# Variables de ubicaci\u00f3n\nDevices_day = Devices_day.withColumn('Guayas_y_alr_dur', F.when(F.col('Provincia_OFF') == 'Guayas_y_alrededores', F.col('Duration_h')).otherwise(0))\nDevices_day = Devices_day.withColumn('Pich_y_alr_dur', F.when(F.col('Provincia_OFF') == 'Pich_y_alrededores', F.col('Duration_h')).otherwise(0))\nDevices_day = Devices_day.withColumn('Otras_dur', F.when(F.col('Provincia_OFF') == 'Otras', F.col('Duration_h')).otherwise(0))\n\n# Variables de ubicaci\u00f3n\nDevices_day = Devices_day.withColumn('N_Trips_Guayas_y_alr', F.when(F.col('Provincia_OFF') == 'Guayas_y_alrededores', 1).otherwise(0))\nDevices_day = Devices_day.withColumn('N_Trips_Pich_y_alr', F.when(F.col('Provincia_OFF') == 'Pich_y_alrededores', 1).otherwise(0))\nDevices_day = Devices_day.withColumn('N_Trips_Otras', F.when(F.col('Provincia_OFF') == 'Otras', 1).otherwise(0))"
        },
        {
            "cell_type": "code",
            "execution_count": null,
            "metadata": {},
            "outputs": [],
            "source": ""
        },
        {
            "cell_type": "code",
            "execution_count": 17,
            "metadata": {},
            "outputs": [
                {
                    "name": "stdout",
                    "output_type": "stream",
                    "text": "['DeviceId', 'TripID', 'Dist_km', 'Duration_h', 'DistanciaST', 'DuracionST_h', 'Dur_50_h', 'Dur_70_h', 'Dur_80_h', 'Dur_90_h', 'Dur_100_h', 'Dist_50', 'Dist_70', 'Dist_80', 'Dist_90', 'Dist_100', 'Latitude_ON', 'Longitude_ON', 'EC_Time_ON', 'Latitude_OFF', 'Longitude_OFF', 'EC_Time_OFF', 'DayTime', 'DayType', 'DayWeek', 'Month', 'Date', 'ON_ID', 'OFF_ID', 'ON_N3', 'ON_N2', 'ON_N1', 'OFF_N3', 'OFF_N2', 'OFF_N1', 'ViajeInterparroquial', 'ViajeIntercantonal', 'ViajeInterprovincial', 'Tipo_Viaje', 'Provincia_OFF', 'DayTime_0_6_dist', 'DayTime_6_9_dist', 'DayTime_9_18_dist', 'DayTime_18_21_dist', 'DayTime_21_24_dist', 'DayTime_0_6_dur', 'DayTime_6_9_dur', 'DayTime_9_18_dur', 'DayTime_18_21_dur', 'DayTime_21_24_dur', 'N_Trips_DayTime_0_6', 'N_Trips_DayTime_6_9', 'N_Trips_DayTime_9_18', 'N_Trips_DayTime_18_21', 'N_Trips_DayTime_21_24', 'DT_Weekday_dist', 'DT_Weekend_dist', 'DT_Weekday_dur', 'DT_Weekend_dur', 'N_Trips_DT_Weekday', 'N_Trips_DT_Weekend', 'Tipo_Viaje_A_dist', 'Tipo_Viaje_B_dist', 'Tipo_Viaje_C_dist', 'Tipo_Viaje_D_dist', 'Tipo_Viaje_A_dur', 'Tipo_Viaje_B_dur', 'Tipo_Viaje_C_dur', 'Tipo_Viaje_D_dur', 'N_Trips_Tipo_Viaje_A', 'N_Trips_Tipo_Viaje_B', 'N_Trips_Tipo_Viaje_C', 'N_Trips_Tipo_Viaje_D', 'Guayas_y_alr_dist', 'Pich_y_alr_dist', 'Otras_dist', 'Guayas_y_alr_dur', 'Pich_y_alr_dur', 'Otras_dur', 'N_Trips_Guayas_y_alr', 'N_Trips_Pich_y_alr', 'N_Trips_Otras']\n"
                }
            ],
            "source": "print(Devices_day.columns)"
        },
        {
            "cell_type": "markdown",
            "metadata": {},
            "source": "## Day aggregations"
        },
        {
            "cell_type": "code",
            "execution_count": 18,
            "metadata": {},
            "outputs": [
                {
                    "name": "stdout",
                    "output_type": "stream",
                    "text": "['DeviceId', 'Month', 'Date', 'Viajes_dia', 'Dist_km', 'Duration_h', 'Dur_50_h', 'Dur_70_h', 'Dur_80_h', 'Dur_90_h', 'Dur_100_h', 'Dist_50', 'Dist_70', 'Dist_80', 'Dist_90', 'Dist_100', 'DayTime_0_6_dist', 'DayTime_6_9_dist', 'DayTime_9_18_dist', 'DayTime_18_21_dist', 'DayTime_21_24_dist', 'DayTime_0_6_dur', 'DayTime_6_9_dur', 'DayTime_9_18_dur', 'DayTime_18_21_dur', 'DayTime_21_24_dur', 'N_Trips_DayTime_0_6', 'N_Trips_DayTime_6_9', 'N_Trips_DayTime_9_18', 'N_Trips_DayTime_18_21', 'N_Trips_DayTime_21_24', 'DT_Weekday_dist', 'DT_Weekend_dist', 'DT_Weekday_dur', 'DT_Weekend_dur', 'N_Trips_DT_Weekday', 'N_Trips_DT_Weekend', 'Tipo_Viaje_A_dist', 'Tipo_Viaje_B_dist', 'Tipo_Viaje_C_dist', 'Tipo_Viaje_D_dist', 'Tipo_Viaje_A_dur', 'Tipo_Viaje_B_dur', 'Tipo_Viaje_C_dur', 'Tipo_Viaje_D_dur', 'N_Trips_Tipo_Viaje_A', 'N_Trips_Tipo_Viaje_B', 'N_Trips_Tipo_Viaje_C', 'N_Trips_Tipo_Viaje_D', 'Guayas_y_alr_dist', 'Pich_y_alr_dist', 'Otras_dist', 'Guayas_y_alr_dur', 'Pich_y_alr_dur', 'Otras_dur', 'N_Trips_Guayas_y_alr', 'N_Trips_Pich_y_alr', 'N_Trips_Otras']\n"
                }
            ],
            "source": "# Datos agregados por d\u00eda\n\ncols = ['Dist_km', 'Duration_h', 'Dur_50_h', 'Dur_70_h', 'Dur_80_h', 'Dur_90_h', 'Dur_100_h', \n        'Dist_50', 'Dist_70', 'Dist_80', 'Dist_90', 'Dist_100', \n        'DayTime_0_6_dist', 'DayTime_6_9_dist', 'DayTime_9_18_dist', 'DayTime_18_21_dist', \n        'DayTime_21_24_dist', 'DayTime_0_6_dur', 'DayTime_6_9_dur', 'DayTime_9_18_dur', \n        'DayTime_18_21_dur', 'DayTime_21_24_dur', 'N_Trips_DayTime_0_6', 'N_Trips_DayTime_6_9',\n        'N_Trips_DayTime_9_18', 'N_Trips_DayTime_18_21', 'N_Trips_DayTime_21_24', \n        'DT_Weekday_dist', 'DT_Weekend_dist', 'DT_Weekday_dur', 'DT_Weekend_dur',\n        'N_Trips_DT_Weekday', 'N_Trips_DT_Weekend', 'Tipo_Viaje_A_dist', 'Tipo_Viaje_B_dist',\n        'Tipo_Viaje_C_dist', 'Tipo_Viaje_D_dist', 'Tipo_Viaje_A_dur', 'Tipo_Viaje_B_dur',\n        'Tipo_Viaje_C_dur', 'Tipo_Viaje_D_dur', 'N_Trips_Tipo_Viaje_A', 'N_Trips_Tipo_Viaje_B',\n        'N_Trips_Tipo_Viaje_C', 'N_Trips_Tipo_Viaje_D', 'Guayas_y_alr_dist', 'Pich_y_alr_dist',\n        'Otras_dist', 'Guayas_y_alr_dur', 'Pich_y_alr_dur', 'Otras_dur', 'N_Trips_Guayas_y_alr',\n        'N_Trips_Pich_y_alr', 'N_Trips_Otras']\n\nexprs_Sum = [F.sum(x).alias(x) for x in cols]\nDevices_day = Devices_day.groupby(\"DeviceId\",\"Month\",\"Date\").agg(F.count(\"*\").alias(\"Viajes_dia\"), *exprs_Sum)\nprint(Devices_day.columns)"
        },
        {
            "cell_type": "markdown",
            "metadata": {},
            "source": "## Device aggregations"
        },
        {
            "cell_type": "code",
            "execution_count": 19,
            "metadata": {},
            "outputs": [
                {
                    "name": "stdout",
                    "output_type": "stream",
                    "text": "['DeviceId', 'Min_Date', 'Max_Date', 'Count_Dist_Date', 'Sum_Viajes_dia', 'Sum_Dist_km', 'Sum_Duration_h', 'Sum_Dur_50_h', 'Sum_Dur_70_h', 'Sum_Dur_80_h', 'Sum_Dur_90_h', 'Sum_Dur_100_h', 'Sum_Dist_50', 'Sum_Dist_70', 'Sum_Dist_80', 'Sum_Dist_90', 'Sum_Dist_100', 'Sum_DayTime_0_6_dist', 'Sum_DayTime_6_9_dist', 'Sum_DayTime_9_18_dist', 'Sum_DayTime_18_21_dist', 'Sum_DayTime_21_24_dist', 'Sum_DayTime_0_6_dur', 'Sum_DayTime_6_9_dur', 'Sum_DayTime_9_18_dur', 'Sum_DayTime_18_21_dur', 'Sum_DayTime_21_24_dur', 'Sum_N_Trips_DayTime_0_6', 'Sum_N_Trips_DayTime_6_9', 'Sum_N_Trips_DayTime_9_18', 'Sum_N_Trips_DayTime_18_21', 'Sum_N_Trips_DayTime_21_24', 'Sum_DT_Weekday_dist', 'Sum_DT_Weekend_dist', 'Sum_DT_Weekday_dur', 'Sum_DT_Weekend_dur', 'Sum_N_Trips_DT_Weekday', 'Sum_N_Trips_DT_Weekend', 'Sum_Tipo_Viaje_A_dist', 'Sum_Tipo_Viaje_B_dist', 'Sum_Tipo_Viaje_C_dist', 'Sum_Tipo_Viaje_D_dist', 'Sum_Tipo_Viaje_A_dur', 'Sum_Tipo_Viaje_B_dur', 'Sum_Tipo_Viaje_C_dur', 'Sum_Tipo_Viaje_D_dur', 'Sum_N_Trips_Tipo_Viaje_A', 'Sum_N_Trips_Tipo_Viaje_B', 'Sum_N_Trips_Tipo_Viaje_C', 'Sum_N_Trips_Tipo_Viaje_D', 'Sum_Guayas_y_alr_dist', 'Sum_Pich_y_alr_dist', 'Sum_Otras_dist', 'Sum_Guayas_y_alr_dur', 'Sum_Pich_y_alr_dur', 'Sum_Otras_dur', 'Sum_N_Trips_Guayas_y_alr', 'Sum_N_Trips_Pich_y_alr', 'Sum_N_Trips_Otras']\n"
                }
            ],
            "source": "cols = ['Viajes_dia', 'Dist_km', 'Duration_h', 'Dur_50_h', 'Dur_70_h', 'Dur_80_h', 'Dur_90_h', 'Dur_100_h',\n        'Dist_50', 'Dist_70', 'Dist_80', 'Dist_90', 'Dist_100', \n        'DayTime_0_6_dist', 'DayTime_6_9_dist', 'DayTime_9_18_dist', 'DayTime_18_21_dist', 'DayTime_21_24_dist', \n        'DayTime_0_6_dur', 'DayTime_6_9_dur', 'DayTime_9_18_dur', 'DayTime_18_21_dur', 'DayTime_21_24_dur', \n        'N_Trips_DayTime_0_6', 'N_Trips_DayTime_6_9', 'N_Trips_DayTime_9_18', 'N_Trips_DayTime_18_21', 'N_Trips_DayTime_21_24', \n        'DT_Weekday_dist', 'DT_Weekend_dist', 'DT_Weekday_dur', 'DT_Weekend_dur', 'N_Trips_DT_Weekday', 'N_Trips_DT_Weekend', \n        'Tipo_Viaje_A_dist', 'Tipo_Viaje_B_dist', 'Tipo_Viaje_C_dist', 'Tipo_Viaje_D_dist', \n        'Tipo_Viaje_A_dur', 'Tipo_Viaje_B_dur', 'Tipo_Viaje_C_dur', 'Tipo_Viaje_D_dur', \n        'N_Trips_Tipo_Viaje_A', 'N_Trips_Tipo_Viaje_B', 'N_Trips_Tipo_Viaje_C', 'N_Trips_Tipo_Viaje_D', \n        'Guayas_y_alr_dist', 'Pich_y_alr_dist', 'Otras_dist', 'Guayas_y_alr_dur', 'Pich_y_alr_dur', 'Otras_dur', \n        'N_Trips_Guayas_y_alr', 'N_Trips_Pich_y_alr', 'N_Trips_Otras']\n\nexprs_Min = [F.min(x).alias(\"Min_\"+x) for x in ['Date']]\nexprs_Max = [F.max(x).alias(\"Max_\"+x) for x in ['Date']]\nexprs_CD = [F.countDistinct(x).alias(\"Count_Dist_\"+x) for x in ['Date']]\nexprs_Sum = [F.sum(x).alias(\"Sum_\"+x) for x in cols]\n#exprs_Avg = [F.avg(x).alias(\"Promedio_\"+x) for x in cols]\n#exprs_Max = [F.max(x).alias(\"Max_\"+x) for x in cols]\n\n#Devices_Month = Devices_day.groupBy(\"DeviceId\").agg(*exprs_CD, *exprs_Sum, *exprs_Avg, *exprs_Max)\nDevices_Month = Devices_day.groupBy(\"DeviceId\").agg(*exprs_Min,*exprs_Max , \n                                                    *exprs_CD, *exprs_Sum)\n\nprint(Devices_Month.columns)"
        },
        {
            "cell_type": "markdown",
            "metadata": {},
            "source": "### Add installation date "
        },
        {
            "cell_type": "code",
            "execution_count": 20,
            "metadata": {},
            "outputs": [],
            "source": "Devices_Month = Devices_Month.join(dev_df.select('DeviceId', 'installeddate', 'dias_circ'), on=['DeviceId'])\nDevices_Month = Devices_Month.dropDuplicates()"
        },
        {
            "cell_type": "code",
            "execution_count": 21,
            "metadata": {},
            "outputs": [],
            "source": "#Compute percentage of days in movement\nDevices_Month = Devices_Month.withColumn('PCT_Dias_Mov', F.col('Count_Dist_Date')/F.col('dias_circ'))\nDevices_Month = Devices_Month.withColumn('PCT_Horas_Mov', F.col('Sum_Duration_h')/(F.col('dias_circ')*24))"
        },
        {
            "cell_type": "code",
            "execution_count": 22,
            "metadata": {},
            "outputs": [
                {
                    "name": "stdout",
                    "output_type": "stream",
                    "text": "['DeviceId', 'min_date', 'max_date', 'days_passed', 'installeddate', 'circ_time', 'dias_circ']\n"
                },
                {
                    "data": {
                        "text/plain": "['DeviceId',\n 'Min_Date',\n 'Max_Date',\n 'Count_Dist_Date',\n 'Sum_Viajes_dia',\n 'Sum_Dist_km',\n 'Sum_Duration_h',\n 'Sum_Dur_50_h',\n 'Sum_Dur_70_h',\n 'Sum_Dur_80_h',\n 'Sum_Dur_90_h',\n 'Sum_Dur_100_h',\n 'Sum_Dist_50',\n 'Sum_Dist_70',\n 'Sum_Dist_80',\n 'Sum_Dist_90',\n 'Sum_Dist_100',\n 'Sum_DayTime_0_6_dist',\n 'Sum_DayTime_6_9_dist',\n 'Sum_DayTime_9_18_dist',\n 'Sum_DayTime_18_21_dist',\n 'Sum_DayTime_21_24_dist',\n 'Sum_DayTime_0_6_dur',\n 'Sum_DayTime_6_9_dur',\n 'Sum_DayTime_9_18_dur',\n 'Sum_DayTime_18_21_dur',\n 'Sum_DayTime_21_24_dur',\n 'Sum_N_Trips_DayTime_0_6',\n 'Sum_N_Trips_DayTime_6_9',\n 'Sum_N_Trips_DayTime_9_18',\n 'Sum_N_Trips_DayTime_18_21',\n 'Sum_N_Trips_DayTime_21_24',\n 'Sum_DT_Weekday_dist',\n 'Sum_DT_Weekend_dist',\n 'Sum_DT_Weekday_dur',\n 'Sum_DT_Weekend_dur',\n 'Sum_N_Trips_DT_Weekday',\n 'Sum_N_Trips_DT_Weekend',\n 'Sum_Tipo_Viaje_A_dist',\n 'Sum_Tipo_Viaje_B_dist',\n 'Sum_Tipo_Viaje_C_dist',\n 'Sum_Tipo_Viaje_D_dist',\n 'Sum_Tipo_Viaje_A_dur',\n 'Sum_Tipo_Viaje_B_dur',\n 'Sum_Tipo_Viaje_C_dur',\n 'Sum_Tipo_Viaje_D_dur',\n 'Sum_N_Trips_Tipo_Viaje_A',\n 'Sum_N_Trips_Tipo_Viaje_B',\n 'Sum_N_Trips_Tipo_Viaje_C',\n 'Sum_N_Trips_Tipo_Viaje_D',\n 'Sum_Guayas_y_alr_dist',\n 'Sum_Pich_y_alr_dist',\n 'Sum_Otras_dist',\n 'Sum_Guayas_y_alr_dur',\n 'Sum_Pich_y_alr_dur',\n 'Sum_Otras_dur',\n 'Sum_N_Trips_Guayas_y_alr',\n 'Sum_N_Trips_Pich_y_alr',\n 'Sum_N_Trips_Otras',\n 'installeddate',\n 'dias_circ',\n 'PCT_Dias_Mov',\n 'PCT_Horas_Mov']"
                    },
                    "execution_count": 22,
                    "metadata": {},
                    "output_type": "execute_result"
                }
            ],
            "source": "print(dev_df.columns)\nDevices_Month.columns"
        },
        {
            "cell_type": "markdown",
            "metadata": {},
            "source": "We have computed the totals of each variable. Now, we need to calculate percentages and percentiles since we won\u2019t use totals in the modelization. "
        },
        {
            "cell_type": "markdown",
            "metadata": {},
            "source": "### Compute percentages variables"
        },
        {
            "cell_type": "code",
            "execution_count": 24,
            "metadata": {},
            "outputs": [],
            "source": "## % de Segment Type\ncols = ['Sum_Dist_50', 'Sum_Dist_70', 'Sum_Dist_80', 'Sum_Dist_90', 'Sum_Dist_100']\n\nfor field in cols:\n    if field != ['DeviceId','Min_Date','Max_Date','Count_Dist_Date']:\n        name = \"PCT\"+field.replace(\"Sum\",\"\")\n        Devices_Month = Devices_Month.withColumn(name, F.col(field) / F.col('Sum_Dist_km'))\n        \ncols = ['Sum_Dur_50_h', 'Sum_Dur_70_h', 'Sum_Dur_80_h', 'Sum_Dur_90_h', 'Sum_Dur_100_h']\n\nfor field in cols:\n    if field != ['DeviceId','Min_Date','Max_Date','Count_Dist_Date']:\n        name = \"PCT\"+field.replace(\"Sum\",\"\")\n        Devices_Month = Devices_Month.withColumn(name, F.col(field) / F.col('Sum_Duration_h'))"
        },
        {
            "cell_type": "code",
            "execution_count": 25,
            "metadata": {},
            "outputs": [],
            "source": "## % DayTime\ncols = [ 'Sum_DayTime_0_6_dist', 'Sum_DayTime_6_9_dist', 'Sum_DayTime_9_18_dist', 'Sum_DayTime_18_21_dist', 'Sum_DayTime_21_24_dist']\n\nfor field in cols:\n    if field != ['DeviceId','Min_Date','Max_Date','Count_Dist_Date']:\n        name = \"PCT\"+field.replace(\"Sum\",\"\")\n        Devices_Month = Devices_Month.withColumn(name, F.col(field) / F.col('Sum_Dist_km'))\n        \ncols = ['Sum_DayTime_0_6_dur', 'Sum_DayTime_6_9_dur', 'Sum_DayTime_9_18_dur', 'Sum_DayTime_18_21_dur', 'Sum_DayTime_21_24_dur']\n\nfor field in cols:\n    if field != ['DeviceId','Min_Date','Max_Date','Count_Dist_Date']:\n        name = \"PCT\"+field.replace(\"Sum\",\"\")\n        Devices_Month = Devices_Month.withColumn(name, F.col(field) / F.col('Sum_Duration_h'))\n        \ncols = ['Sum_N_Trips_DayTime_0_6', 'Sum_N_Trips_DayTime_6_9', 'Sum_N_Trips_DayTime_9_18', 'Sum_N_Trips_DayTime_18_21', 'Sum_N_Trips_DayTime_21_24']\n\nfor field in cols:\n    if field != ['DeviceId','Min_Date','Max_Date','Count_Dist_Date']:\n        name = \"PCT\"+field.replace(\"Sum\",\"\")\n        Devices_Month = Devices_Month.withColumn(name, F.col(field) / F.col('Sum_Viajes_dia'))"
        },
        {
            "cell_type": "code",
            "execution_count": 26,
            "metadata": {},
            "outputs": [],
            "source": "## % DayType\ncols = [ 'Sum_DT_Weekday_dist', 'Sum_DT_Weekend_dist']\n\nfor field in cols:\n    if field != ['DeviceId','Min_Date','Max_Date','Count_Dist_Date']:\n        name = \"PCT\"+field.replace(\"Sum\",\"\")\n        Devices_Month = Devices_Month.withColumn(name, F.col(field) / F.col('Sum_Dist_km'))\n        \ncols = [ 'Sum_DT_Weekday_dur', 'Sum_DT_Weekend_dur']\n\nfor field in cols:\n    if field != ['DeviceId','Min_Date','Max_Date','Count_Dist_Date']:\n        name = \"PCT\"+field.replace(\"Sum\",\"\")\n        Devices_Month = Devices_Month.withColumn(name, F.col(field) / F.col('Sum_Duration_h'))\n        \ncols = ['Sum_N_Trips_DT_Weekday', 'Sum_N_Trips_DT_Weekend']\n\nfor field in cols:\n    if field != ['DeviceId','Min_Date','Max_Date','Count_Dist_Date']:\n        name = \"PCT\"+field.replace(\"Sum\",\"\")\n        Devices_Month = Devices_Month.withColumn(name, F.col(field) / F.col('Sum_Viajes_dia'))"
        },
        {
            "cell_type": "code",
            "execution_count": 27,
            "metadata": {},
            "outputs": [],
            "source": "## % Provincia\ncols = [ 'Sum_Guayas_y_alr_dist', 'Sum_Pich_y_alr_dist', 'Sum_Otras_dist']\n\nfor field in cols:\n    if field != ['DeviceId','Min_Date','Max_Date','Count_Dist_Date']:\n        name = \"PCT\"+field.replace(\"Sum\",\"\")\n        Devices_Month = Devices_Month.withColumn(name, F.col(field) / F.col('Sum_Dist_km'))\n        \ncols = [ 'Sum_Guayas_y_alr_dur', 'Sum_Pich_y_alr_dur', 'Sum_Otras_dur']\n\nfor field in cols:\n    if field != ['DeviceId','Min_Date','Max_Date','Count_Dist_Date']:\n        name = \"PCT\"+field.replace(\"Sum\",\"\")\n        Devices_Month = Devices_Month.withColumn(name, F.col(field) / F.col('Sum_Duration_h'))\n        \ncols = ['Sum_N_Trips_Guayas_y_alr', 'Sum_N_Trips_Pich_y_alr', 'Sum_N_Trips_Otras']\n\nfor field in cols:\n    if field != ['DeviceId','Min_Date','Max_Date','Count_Dist_Date']:\n        name = \"PCT\"+field.replace(\"Sum\",\"\")\n        Devices_Month = Devices_Month.withColumn(name, F.col(field) / F.col('Sum_Viajes_dia'))"
        },
        {
            "cell_type": "code",
            "execution_count": 28,
            "metadata": {},
            "outputs": [],
            "source": "## % Tipo Viaje\ncols = ['Sum_Tipo_Viaje_A_dist', 'Sum_Tipo_Viaje_B_dist', 'Sum_Tipo_Viaje_C_dist', 'Sum_Tipo_Viaje_D_dist']\n\nfor field in cols:\n    if field != ['DeviceId','Min_Date','Max_Date','Count_Dist_Date']:\n        name = \"PCT\"+field.replace(\"Sum\",\"\")\n        Devices_Month = Devices_Month.withColumn(name, F.col(field) / F.col('Sum_Dist_km'))\ncols = ['Sum_Tipo_Viaje_A_dur', 'Sum_Tipo_Viaje_B_dur', 'Sum_Tipo_Viaje_C_dur', 'Sum_Tipo_Viaje_D_dur']\n\nfor field in cols:\n    if field != ['DeviceId','Min_Date','Max_Date','Count_Dist_Date']:\n        name = \"PCT\"+field.replace(\"Sum\",\"\")\n        Devices_Month = Devices_Month.withColumn(name, F.col(field) / F.col('Sum_Duration_h'))\n        \ncols = ['Sum_N_Trips_Tipo_Viaje_A', 'Sum_N_Trips_Tipo_Viaje_B', 'Sum_N_Trips_Tipo_Viaje_C', 'Sum_N_Trips_Tipo_Viaje_D']\n\nfor field in cols:\n    if field != ['DeviceId','Min_Date','Max_Date','Count_Dist_Date']:\n        name = \"PCT\"+field.replace(\"Sum\",\"\")\n        Devices_Month = Devices_Month.withColumn(name, F.col(field) / F.col('Sum_Viajes_dia'))"
        },
        {
            "cell_type": "markdown",
            "metadata": {},
            "source": "## Find percentiles\n\nWe will use pandas library to calcular the percentiles."
        },
        {
            "cell_type": "code",
            "execution_count": 29,
            "metadata": {},
            "outputs": [
                {
                    "name": "stdout",
                    "output_type": "stream",
                    "text": "***********Done***********\n"
                },
                {
                    "data": {
                        "text/html": "<div>\n<style scoped>\n    .dataframe tbody tr th:only-of-type {\n        vertical-align: middle;\n    }\n\n    .dataframe tbody tr th {\n        vertical-align: top;\n    }\n\n    .dataframe thead th {\n        text-align: right;\n    }\n</style>\n<table border=\"1\" class=\"dataframe\">\n  <thead>\n    <tr style=\"text-align: right;\">\n      <th></th>\n      <th>DeviceId</th>\n      <th>Min_Date</th>\n      <th>Max_Date</th>\n      <th>Count_Dist_Date</th>\n      <th>Sum_Viajes_dia</th>\n      <th>Sum_Dist_km</th>\n      <th>Sum_Duration_h</th>\n      <th>Sum_Dur_50_h</th>\n      <th>Sum_Dur_70_h</th>\n      <th>Sum_Dur_80_h</th>\n      <th>...</th>\n      <th>PCT_Tipo_Viaje_C_dist</th>\n      <th>PCT_Tipo_Viaje_D_dist</th>\n      <th>PCT_Tipo_Viaje_A_dur</th>\n      <th>PCT_Tipo_Viaje_B_dur</th>\n      <th>PCT_Tipo_Viaje_C_dur</th>\n      <th>PCT_Tipo_Viaje_D_dur</th>\n      <th>PCT_N_Trips_Tipo_Viaje_A</th>\n      <th>PCT_N_Trips_Tipo_Viaje_B</th>\n      <th>PCT_N_Trips_Tipo_Viaje_C</th>\n      <th>PCT_N_Trips_Tipo_Viaje_D</th>\n    </tr>\n  </thead>\n  <tbody>\n    <tr>\n      <th>0</th>\n      <td>28078</td>\n      <td>2018-12-31</td>\n      <td>2019-09-30</td>\n      <td>254</td>\n      <td>981</td>\n      <td>6844.2</td>\n      <td>301.871389</td>\n      <td>247.434167</td>\n      <td>1.384167</td>\n      <td>0.000000</td>\n      <td>...</td>\n      <td>0.198752</td>\n      <td>0.059452</td>\n      <td>0.434671</td>\n      <td>0.340338</td>\n      <td>0.194396</td>\n      <td>0.030595</td>\n      <td>0.675841</td>\n      <td>0.153925</td>\n      <td>0.163099</td>\n      <td>0.007136</td>\n    </tr>\n    <tr>\n      <th>1</th>\n      <td>29824</td>\n      <td>2019-02-02</td>\n      <td>2019-09-26</td>\n      <td>17</td>\n      <td>26</td>\n      <td>381.2</td>\n      <td>17.964167</td>\n      <td>14.995278</td>\n      <td>0.254444</td>\n      <td>0.092778</td>\n      <td>...</td>\n      <td>0.590766</td>\n      <td>0.005247</td>\n      <td>0.558890</td>\n      <td>0.000000</td>\n      <td>0.431291</td>\n      <td>0.009819</td>\n      <td>0.653846</td>\n      <td>0.000000</td>\n      <td>0.307692</td>\n      <td>0.038462</td>\n    </tr>\n    <tr>\n      <th>2</th>\n      <td>29841</td>\n      <td>2019-01-02</td>\n      <td>2019-09-30</td>\n      <td>200</td>\n      <td>507</td>\n      <td>2881.0</td>\n      <td>136.312222</td>\n      <td>108.500833</td>\n      <td>0.000000</td>\n      <td>3.783611</td>\n      <td>...</td>\n      <td>0.111003</td>\n      <td>0.353141</td>\n      <td>0.658464</td>\n      <td>0.012003</td>\n      <td>0.044868</td>\n      <td>0.284665</td>\n      <td>0.800789</td>\n      <td>0.007890</td>\n      <td>0.013807</td>\n      <td>0.177515</td>\n    </tr>\n    <tr>\n      <th>3</th>\n      <td>30025</td>\n      <td>2019-01-02</td>\n      <td>2019-08-09</td>\n      <td>169</td>\n      <td>352</td>\n      <td>5707.4</td>\n      <td>243.858611</td>\n      <td>164.458611</td>\n      <td>47.831667</td>\n      <td>0.168611</td>\n      <td>...</td>\n      <td>0.091390</td>\n      <td>0.000000</td>\n      <td>0.932562</td>\n      <td>0.000000</td>\n      <td>0.067438</td>\n      <td>0.000000</td>\n      <td>0.934659</td>\n      <td>0.000000</td>\n      <td>0.065341</td>\n      <td>0.000000</td>\n    </tr>\n    <tr>\n      <th>4</th>\n      <td>30562</td>\n      <td>2019-01-01</td>\n      <td>2019-09-30</td>\n      <td>232</td>\n      <td>573</td>\n      <td>2385.6</td>\n      <td>128.651667</td>\n      <td>114.487500</td>\n      <td>0.000000</td>\n      <td>0.000000</td>\n      <td>...</td>\n      <td>0.029804</td>\n      <td>0.022133</td>\n      <td>0.872539</td>\n      <td>0.109186</td>\n      <td>0.010355</td>\n      <td>0.007920</td>\n      <td>0.961606</td>\n      <td>0.034904</td>\n      <td>0.001745</td>\n      <td>0.001745</td>\n    </tr>\n  </tbody>\n</table>\n<p>5 rows \u00d7 115 columns</p>\n</div>",
                        "text/plain": "   DeviceId    Min_Date    Max_Date  Count_Dist_Date  Sum_Viajes_dia  \\\n0     28078  2018-12-31  2019-09-30              254             981   \n1     29824  2019-02-02  2019-09-26               17              26   \n2     29841  2019-01-02  2019-09-30              200             507   \n3     30025  2019-01-02  2019-08-09              169             352   \n4     30562  2019-01-01  2019-09-30              232             573   \n\n   Sum_Dist_km  Sum_Duration_h  Sum_Dur_50_h  Sum_Dur_70_h  Sum_Dur_80_h  ...  \\\n0       6844.2      301.871389    247.434167      1.384167      0.000000  ...   \n1        381.2       17.964167     14.995278      0.254444      0.092778  ...   \n2       2881.0      136.312222    108.500833      0.000000      3.783611  ...   \n3       5707.4      243.858611    164.458611     47.831667      0.168611  ...   \n4       2385.6      128.651667    114.487500      0.000000      0.000000  ...   \n\n   PCT_Tipo_Viaje_C_dist  PCT_Tipo_Viaje_D_dist  PCT_Tipo_Viaje_A_dur  \\\n0               0.198752               0.059452              0.434671   \n1               0.590766               0.005247              0.558890   \n2               0.111003               0.353141              0.658464   \n3               0.091390               0.000000              0.932562   \n4               0.029804               0.022133              0.872539   \n\n   PCT_Tipo_Viaje_B_dur  PCT_Tipo_Viaje_C_dur  PCT_Tipo_Viaje_D_dur  \\\n0              0.340338              0.194396              0.030595   \n1              0.000000              0.431291              0.009819   \n2              0.012003              0.044868              0.284665   \n3              0.000000              0.067438              0.000000   \n4              0.109186              0.010355              0.007920   \n\n   PCT_N_Trips_Tipo_Viaje_A  PCT_N_Trips_Tipo_Viaje_B  \\\n0                  0.675841                  0.153925   \n1                  0.653846                  0.000000   \n2                  0.800789                  0.007890   \n3                  0.934659                  0.000000   \n4                  0.961606                  0.034904   \n\n   PCT_N_Trips_Tipo_Viaje_C  PCT_N_Trips_Tipo_Viaje_D  \n0                  0.163099                  0.007136  \n1                  0.307692                  0.038462  \n2                  0.013807                  0.177515  \n3                  0.065341                  0.000000  \n4                  0.001745                  0.001745  \n\n[5 rows x 115 columns]"
                    },
                    "execution_count": 29,
                    "metadata": {},
                    "output_type": "execute_result"
                }
            ],
            "source": "Devices_Month_pandas = Devices_Month.toPandas()\nprint(\"***********Done***********\")\nDevices_Month_pandas.head()"
        },
        {
            "cell_type": "code",
            "execution_count": 30,
            "metadata": {},
            "outputs": [],
            "source": "#Devices_Month\ndf_test = Devices_Month_pandas\ncols = ['Count_Dist_Date', 'Sum_Viajes_dia', 'Sum_Dist_km', 'Sum_Duration_h',\n        'Sum_Dist_50', 'Sum_Dist_70', 'Sum_Dist_80', 'Sum_Dist_90', 'Sum_Dist_100',\n        'Sum_Dur_50_h', 'Sum_Dur_70_h','Sum_Dur_80_h', 'Sum_Dur_90_h', 'Sum_Dur_100_h',\n        'Sum_DayTime_0_6_dist', 'Sum_DayTime_6_9_dist', 'Sum_DayTime_9_18_dist', 'Sum_DayTime_18_21_dist', 'Sum_DayTime_21_24_dist',\n        'Sum_DayTime_0_6_dur', 'Sum_DayTime_6_9_dur', 'Sum_DayTime_9_18_dur', 'Sum_DayTime_18_21_dur', 'Sum_DayTime_21_24_dur',\n        'Sum_N_Trips_DayTime_0_6', 'Sum_N_Trips_DayTime_6_9', 'Sum_N_Trips_DayTime_9_18', 'Sum_N_Trips_DayTime_18_21', 'Sum_N_Trips_DayTime_21_24',\n        'Sum_DT_Weekday_dist', 'Sum_DT_Weekend_dist', 'Sum_DT_Weekday_dur', 'Sum_DT_Weekend_dur', 'Sum_N_Trips_DT_Weekday', 'Sum_N_Trips_DT_Weekend',\n        'Sum_Tipo_Viaje_A_dist', 'Sum_Tipo_Viaje_B_dist', 'Sum_Tipo_Viaje_C_dist', 'Sum_Tipo_Viaje_D_dist',\n        'Sum_Tipo_Viaje_A_dur', 'Sum_Tipo_Viaje_B_dur', 'Sum_Tipo_Viaje_C_dur', 'Sum_Tipo_Viaje_D_dur',\n        'Sum_N_Trips_Tipo_Viaje_A', 'Sum_N_Trips_Tipo_Viaje_B', 'Sum_N_Trips_Tipo_Viaje_C', 'Sum_N_Trips_Tipo_Viaje_D',\n        'Sum_Guayas_y_alr_dist', 'Sum_Pich_y_alr_dist', 'Sum_Otras_dist', \n        'Sum_Guayas_y_alr_dur', 'Sum_Pich_y_alr_dur', 'Sum_Otras_dur',\n        'Sum_N_Trips_Guayas_y_alr', 'Sum_N_Trips_Pich_y_alr', 'Sum_N_Trips_Otras'\n        ]\nfor col in cols:\n    name = \"PRCNTIL_POS_\"+col.replace(\"Sum_\",\"\") \n    df_test[name] = df_test[col].rank(pct=True).round(2)\n    "
        },
        {
            "cell_type": "code",
            "execution_count": 31,
            "metadata": {
                "scrolled": false
            },
            "outputs": [
                {
                    "data": {
                        "text/plain": "array(['DeviceId', 'Min_Date', 'Max_Date', 'Count_Dist_Date',\n       'Sum_Viajes_dia', 'Sum_Dist_km', 'Sum_Duration_h', 'Sum_Dur_50_h',\n       'Sum_Dur_70_h', 'Sum_Dur_80_h', 'Sum_Dur_90_h', 'Sum_Dur_100_h',\n       'Sum_Dist_50', 'Sum_Dist_70', 'Sum_Dist_80', 'Sum_Dist_90',\n       'Sum_Dist_100', 'Sum_DayTime_0_6_dist', 'Sum_DayTime_6_9_dist',\n       'Sum_DayTime_9_18_dist', 'Sum_DayTime_18_21_dist',\n       'Sum_DayTime_21_24_dist', 'Sum_DayTime_0_6_dur',\n       'Sum_DayTime_6_9_dur', 'Sum_DayTime_9_18_dur',\n       'Sum_DayTime_18_21_dur', 'Sum_DayTime_21_24_dur',\n       'Sum_N_Trips_DayTime_0_6', 'Sum_N_Trips_DayTime_6_9',\n       'Sum_N_Trips_DayTime_9_18', 'Sum_N_Trips_DayTime_18_21',\n       'Sum_N_Trips_DayTime_21_24', 'Sum_DT_Weekday_dist',\n       'Sum_DT_Weekend_dist', 'Sum_DT_Weekday_dur', 'Sum_DT_Weekend_dur',\n       'Sum_N_Trips_DT_Weekday', 'Sum_N_Trips_DT_Weekend',\n       'Sum_Tipo_Viaje_A_dist', 'Sum_Tipo_Viaje_B_dist',\n       'Sum_Tipo_Viaje_C_dist', 'Sum_Tipo_Viaje_D_dist',\n       'Sum_Tipo_Viaje_A_dur', 'Sum_Tipo_Viaje_B_dur',\n       'Sum_Tipo_Viaje_C_dur', 'Sum_Tipo_Viaje_D_dur',\n       'Sum_N_Trips_Tipo_Viaje_A', 'Sum_N_Trips_Tipo_Viaje_B',\n       'Sum_N_Trips_Tipo_Viaje_C', 'Sum_N_Trips_Tipo_Viaje_D',\n       'Sum_Guayas_y_alr_dist', 'Sum_Pich_y_alr_dist', 'Sum_Otras_dist',\n       'Sum_Guayas_y_alr_dur', 'Sum_Pich_y_alr_dur', 'Sum_Otras_dur',\n       'Sum_N_Trips_Guayas_y_alr', 'Sum_N_Trips_Pich_y_alr',\n       'Sum_N_Trips_Otras', 'installeddate', 'dias_circ', 'PCT_Dias_Mov',\n       'PCT_Horas_Mov', 'PCT_Dist_50', 'PCT_Dist_70', 'PCT_Dist_80',\n       'PCT_Dist_90', 'PCT_Dist_100', 'PCT_Dur_50_h', 'PCT_Dur_70_h',\n       'PCT_Dur_80_h', 'PCT_Dur_90_h', 'PCT_Dur_100_h',\n       'PCT_DayTime_0_6_dist', 'PCT_DayTime_6_9_dist',\n       'PCT_DayTime_9_18_dist', 'PCT_DayTime_18_21_dist',\n       'PCT_DayTime_21_24_dist', 'PCT_DayTime_0_6_dur',\n       'PCT_DayTime_6_9_dur', 'PCT_DayTime_9_18_dur',\n       'PCT_DayTime_18_21_dur', 'PCT_DayTime_21_24_dur',\n       'PCT_N_Trips_DayTime_0_6', 'PCT_N_Trips_DayTime_6_9',\n       'PCT_N_Trips_DayTime_9_18', 'PCT_N_Trips_DayTime_18_21',\n       'PCT_N_Trips_DayTime_21_24', 'PCT_DT_Weekday_dist',\n       'PCT_DT_Weekend_dist', 'PCT_DT_Weekday_dur', 'PCT_DT_Weekend_dur',\n       'PCT_N_Trips_DT_Weekday', 'PCT_N_Trips_DT_Weekend',\n       'PCT_Guayas_y_alr_dist', 'PCT_Pich_y_alr_dist', 'PCT_Otras_dist',\n       'PCT_Guayas_y_alr_dur', 'PCT_Pich_y_alr_dur', 'PCT_Otras_dur',\n       'PCT_N_Trips_Guayas_y_alr', 'PCT_N_Trips_Pich_y_alr',\n       'PCT_N_Trips_Otras', 'PCT_Tipo_Viaje_A_dist',\n       'PCT_Tipo_Viaje_B_dist', 'PCT_Tipo_Viaje_C_dist',\n       'PCT_Tipo_Viaje_D_dist', 'PCT_Tipo_Viaje_A_dur',\n       'PCT_Tipo_Viaje_B_dur', 'PCT_Tipo_Viaje_C_dur',\n       'PCT_Tipo_Viaje_D_dur', 'PCT_N_Trips_Tipo_Viaje_A',\n       'PCT_N_Trips_Tipo_Viaje_B', 'PCT_N_Trips_Tipo_Viaje_C',\n       'PCT_N_Trips_Tipo_Viaje_D', 'PRCNTIL_POS_Count_Dist_Date',\n       'PRCNTIL_POS_Viajes_dia', 'PRCNTIL_POS_Dist_km',\n       'PRCNTIL_POS_Duration_h', 'PRCNTIL_POS_Dist_50',\n       'PRCNTIL_POS_Dist_70', 'PRCNTIL_POS_Dist_80',\n       'PRCNTIL_POS_Dist_90', 'PRCNTIL_POS_Dist_100',\n       'PRCNTIL_POS_Dur_50_h', 'PRCNTIL_POS_Dur_70_h',\n       'PRCNTIL_POS_Dur_80_h', 'PRCNTIL_POS_Dur_90_h',\n       'PRCNTIL_POS_Dur_100_h', 'PRCNTIL_POS_DayTime_0_6_dist',\n       'PRCNTIL_POS_DayTime_6_9_dist', 'PRCNTIL_POS_DayTime_9_18_dist',\n       'PRCNTIL_POS_DayTime_18_21_dist', 'PRCNTIL_POS_DayTime_21_24_dist',\n       'PRCNTIL_POS_DayTime_0_6_dur', 'PRCNTIL_POS_DayTime_6_9_dur',\n       'PRCNTIL_POS_DayTime_9_18_dur', 'PRCNTIL_POS_DayTime_18_21_dur',\n       'PRCNTIL_POS_DayTime_21_24_dur', 'PRCNTIL_POS_N_Trips_DayTime_0_6',\n       'PRCNTIL_POS_N_Trips_DayTime_6_9',\n       'PRCNTIL_POS_N_Trips_DayTime_9_18',\n       'PRCNTIL_POS_N_Trips_DayTime_18_21',\n       'PRCNTIL_POS_N_Trips_DayTime_21_24', 'PRCNTIL_POS_DT_Weekday_dist',\n       'PRCNTIL_POS_DT_Weekend_dist', 'PRCNTIL_POS_DT_Weekday_dur',\n       'PRCNTIL_POS_DT_Weekend_dur', 'PRCNTIL_POS_N_Trips_DT_Weekday',\n       'PRCNTIL_POS_N_Trips_DT_Weekend', 'PRCNTIL_POS_Tipo_Viaje_A_dist',\n       'PRCNTIL_POS_Tipo_Viaje_B_dist', 'PRCNTIL_POS_Tipo_Viaje_C_dist',\n       'PRCNTIL_POS_Tipo_Viaje_D_dist', 'PRCNTIL_POS_Tipo_Viaje_A_dur',\n       'PRCNTIL_POS_Tipo_Viaje_B_dur', 'PRCNTIL_POS_Tipo_Viaje_C_dur',\n       'PRCNTIL_POS_Tipo_Viaje_D_dur', 'PRCNTIL_POS_N_Trips_Tipo_Viaje_A',\n       'PRCNTIL_POS_N_Trips_Tipo_Viaje_B',\n       'PRCNTIL_POS_N_Trips_Tipo_Viaje_C',\n       'PRCNTIL_POS_N_Trips_Tipo_Viaje_D',\n       'PRCNTIL_POS_Guayas_y_alr_dist', 'PRCNTIL_POS_Pich_y_alr_dist',\n       'PRCNTIL_POS_Otras_dist', 'PRCNTIL_POS_Guayas_y_alr_dur',\n       'PRCNTIL_POS_Pich_y_alr_dur', 'PRCNTIL_POS_Otras_dur',\n       'PRCNTIL_POS_N_Trips_Guayas_y_alr',\n       'PRCNTIL_POS_N_Trips_Pich_y_alr', 'PRCNTIL_POS_N_Trips_Otras'],\n      dtype=object)"
                    },
                    "execution_count": 31,
                    "metadata": {},
                    "output_type": "execute_result"
                }
            ],
            "source": "df_test.columns.values"
        },
        {
            "cell_type": "code",
            "execution_count": 33,
            "metadata": {},
            "outputs": [
                {
                    "name": "stdout",
                    "output_type": "stream",
                    "text": "[  317.         453.5        548.55       622.40035    704.75\n   764.699846   815.8        865.8        914.         963.1\n  1016.3       1063.2       1103.55      1148.3       1185.15\n  1232.1       1273.4       1321.        1358.75      1408.5\n  1445.65      1488.3       1529.1       1562.4       1606.5\n  1650.5       1690.4       1725.2       1770.45      1809.2\n  1855.45      1889.        1926.7       1974.5       2014.35\n  2047.        2084.7       2121.        2161.5       2203.4\n  2245.1       2290.        2329.85      2369.2       2410.55\n  2455.5       2501.8       2543.2       2580.7431    2631.\n  2671.95      2714.5       2763.3       2817.5       2862.2\n  2910.8       2967.85      3013.8       3065.65      3129.1\n  3188.95      3237.9       3306.05      3372.72      3443.75\n  3506.8       3571.899975  3638.        3697.85      3767.6\n  3825.        3898.5       3962.65      4043.6       4128.55\n  4220.9       4306.1       4383.7       4491.9       4582.29975\n  4689.7       4810.2       4903.1       5029.8       5135.4\n  5275.        5428.3       5592.6       5728.45      5908.2\n  6101.3       6329.5       6605.6505    6853.5       7179.4\n  7567.3       8187.05      8918.1      10498.2     ]\n   Sum_Dist_km  PRCNTIL_POS_Dist_km\n0       6844.2                 0.94\n1        381.2                 0.01\n2       2881.0                 0.55\n3       5707.4                 0.89\n4       2385.6                 0.44\n5       2669.1                 0.51\n6       3518.2                 0.66\n7       1984.5                 0.34\n8       2613.3                 0.50\n9       3157.6                 0.60\n"
                }
            ],
            "source": "print(np.percentile(df_test['Sum_Dist_km'], range(1,100)))\n\n#[i for i in range(1,10)]\nprint(df_test[['Sum_Dist_km','PRCNTIL_POS_Dist_km']].head(10))"
        },
        {
            "cell_type": "code",
            "execution_count": 34,
            "metadata": {},
            "outputs": [
                {
                    "name": "stdout",
                    "output_type": "stream",
                    "text": "Done\n"
                }
            ],
            "source": "Devices_Month = sqlContext.createDataFrame(df_test)\nprint(\"Done\")"
        },
        {
            "cell_type": "code",
            "execution_count": 35,
            "metadata": {},
            "outputs": [
                {
                    "name": "stdout",
                    "output_type": "stream",
                    "text": "['DeviceId', 'Min_Date', 'Max_Date', 'Count_Dist_Date', 'Sum_Viajes_dia', 'Sum_Dist_km', 'Sum_Duration_h', 'Sum_Dur_50_h', 'Sum_Dur_70_h', 'Sum_Dur_80_h', 'Sum_Dur_90_h', 'Sum_Dur_100_h', 'Sum_Dist_50', 'Sum_Dist_70', 'Sum_Dist_80', 'Sum_Dist_90', 'Sum_Dist_100', 'Sum_DayTime_0_6_dist', 'Sum_DayTime_6_9_dist', 'Sum_DayTime_9_18_dist', 'Sum_DayTime_18_21_dist', 'Sum_DayTime_21_24_dist', 'Sum_DayTime_0_6_dur', 'Sum_DayTime_6_9_dur', 'Sum_DayTime_9_18_dur', 'Sum_DayTime_18_21_dur', 'Sum_DayTime_21_24_dur', 'Sum_N_Trips_DayTime_0_6', 'Sum_N_Trips_DayTime_6_9', 'Sum_N_Trips_DayTime_9_18', 'Sum_N_Trips_DayTime_18_21', 'Sum_N_Trips_DayTime_21_24', 'Sum_DT_Weekday_dist', 'Sum_DT_Weekend_dist', 'Sum_DT_Weekday_dur', 'Sum_DT_Weekend_dur', 'Sum_N_Trips_DT_Weekday', 'Sum_N_Trips_DT_Weekend', 'Sum_Tipo_Viaje_A_dist', 'Sum_Tipo_Viaje_B_dist', 'Sum_Tipo_Viaje_C_dist', 'Sum_Tipo_Viaje_D_dist', 'Sum_Tipo_Viaje_A_dur', 'Sum_Tipo_Viaje_B_dur', 'Sum_Tipo_Viaje_C_dur', 'Sum_Tipo_Viaje_D_dur', 'Sum_N_Trips_Tipo_Viaje_A', 'Sum_N_Trips_Tipo_Viaje_B', 'Sum_N_Trips_Tipo_Viaje_C', 'Sum_N_Trips_Tipo_Viaje_D', 'Sum_Guayas_y_alr_dist', 'Sum_Pich_y_alr_dist', 'Sum_Otras_dist', 'Sum_Guayas_y_alr_dur', 'Sum_Pich_y_alr_dur', 'Sum_Otras_dur', 'Sum_N_Trips_Guayas_y_alr', 'Sum_N_Trips_Pich_y_alr', 'Sum_N_Trips_Otras', 'installeddate', 'dias_circ', 'PCT_Dias_Mov', 'PCT_Horas_Mov', 'PCT_Dist_50', 'PCT_Dist_70', 'PCT_Dist_80', 'PCT_Dist_90', 'PCT_Dist_100', 'PCT_Dur_50_h', 'PCT_Dur_70_h', 'PCT_Dur_80_h', 'PCT_Dur_90_h', 'PCT_Dur_100_h', 'PCT_DayTime_0_6_dist', 'PCT_DayTime_6_9_dist', 'PCT_DayTime_9_18_dist', 'PCT_DayTime_18_21_dist', 'PCT_DayTime_21_24_dist', 'PCT_DayTime_0_6_dur', 'PCT_DayTime_6_9_dur', 'PCT_DayTime_9_18_dur', 'PCT_DayTime_18_21_dur', 'PCT_DayTime_21_24_dur', 'PCT_N_Trips_DayTime_0_6', 'PCT_N_Trips_DayTime_6_9', 'PCT_N_Trips_DayTime_9_18', 'PCT_N_Trips_DayTime_18_21', 'PCT_N_Trips_DayTime_21_24', 'PCT_DT_Weekday_dist', 'PCT_DT_Weekend_dist', 'PCT_DT_Weekday_dur', 'PCT_DT_Weekend_dur', 'PCT_N_Trips_DT_Weekday', 'PCT_N_Trips_DT_Weekend', 'PCT_Guayas_y_alr_dist', 'PCT_Pich_y_alr_dist', 'PCT_Otras_dist', 'PCT_Guayas_y_alr_dur', 'PCT_Pich_y_alr_dur', 'PCT_Otras_dur', 'PCT_N_Trips_Guayas_y_alr', 'PCT_N_Trips_Pich_y_alr', 'PCT_N_Trips_Otras', 'PCT_Tipo_Viaje_A_dist', 'PCT_Tipo_Viaje_B_dist', 'PCT_Tipo_Viaje_C_dist', 'PCT_Tipo_Viaje_D_dist', 'PCT_Tipo_Viaje_A_dur', 'PCT_Tipo_Viaje_B_dur', 'PCT_Tipo_Viaje_C_dur', 'PCT_Tipo_Viaje_D_dur', 'PCT_N_Trips_Tipo_Viaje_A', 'PCT_N_Trips_Tipo_Viaje_B', 'PCT_N_Trips_Tipo_Viaje_C', 'PCT_N_Trips_Tipo_Viaje_D', 'PRCNTIL_POS_Count_Dist_Date', 'PRCNTIL_POS_Viajes_dia', 'PRCNTIL_POS_Dist_km', 'PRCNTIL_POS_Duration_h', 'PRCNTIL_POS_Dist_50', 'PRCNTIL_POS_Dist_70', 'PRCNTIL_POS_Dist_80', 'PRCNTIL_POS_Dist_90', 'PRCNTIL_POS_Dist_100', 'PRCNTIL_POS_Dur_50_h', 'PRCNTIL_POS_Dur_70_h', 'PRCNTIL_POS_Dur_80_h', 'PRCNTIL_POS_Dur_90_h', 'PRCNTIL_POS_Dur_100_h', 'PRCNTIL_POS_DayTime_0_6_dist', 'PRCNTIL_POS_DayTime_6_9_dist', 'PRCNTIL_POS_DayTime_9_18_dist', 'PRCNTIL_POS_DayTime_18_21_dist', 'PRCNTIL_POS_DayTime_21_24_dist', 'PRCNTIL_POS_DayTime_0_6_dur', 'PRCNTIL_POS_DayTime_6_9_dur', 'PRCNTIL_POS_DayTime_9_18_dur', 'PRCNTIL_POS_DayTime_18_21_dur', 'PRCNTIL_POS_DayTime_21_24_dur', 'PRCNTIL_POS_N_Trips_DayTime_0_6', 'PRCNTIL_POS_N_Trips_DayTime_6_9', 'PRCNTIL_POS_N_Trips_DayTime_9_18', 'PRCNTIL_POS_N_Trips_DayTime_18_21', 'PRCNTIL_POS_N_Trips_DayTime_21_24', 'PRCNTIL_POS_DT_Weekday_dist', 'PRCNTIL_POS_DT_Weekend_dist', 'PRCNTIL_POS_DT_Weekday_dur', 'PRCNTIL_POS_DT_Weekend_dur', 'PRCNTIL_POS_N_Trips_DT_Weekday', 'PRCNTIL_POS_N_Trips_DT_Weekend', 'PRCNTIL_POS_Tipo_Viaje_A_dist', 'PRCNTIL_POS_Tipo_Viaje_B_dist', 'PRCNTIL_POS_Tipo_Viaje_C_dist', 'PRCNTIL_POS_Tipo_Viaje_D_dist', 'PRCNTIL_POS_Tipo_Viaje_A_dur', 'PRCNTIL_POS_Tipo_Viaje_B_dur', 'PRCNTIL_POS_Tipo_Viaje_C_dur', 'PRCNTIL_POS_Tipo_Viaje_D_dur', 'PRCNTIL_POS_N_Trips_Tipo_Viaje_A', 'PRCNTIL_POS_N_Trips_Tipo_Viaje_B', 'PRCNTIL_POS_N_Trips_Tipo_Viaje_C', 'PRCNTIL_POS_N_Trips_Tipo_Viaje_D', 'PRCNTIL_POS_Guayas_y_alr_dist', 'PRCNTIL_POS_Pich_y_alr_dist', 'PRCNTIL_POS_Otras_dist', 'PRCNTIL_POS_Guayas_y_alr_dur', 'PRCNTIL_POS_Pich_y_alr_dur', 'PRCNTIL_POS_Otras_dur', 'PRCNTIL_POS_N_Trips_Guayas_y_alr', 'PRCNTIL_POS_N_Trips_Pich_y_alr', 'PRCNTIL_POS_N_Trips_Otras']\n171\n"
                }
            ],
            "source": "print(Devices_Month.columns)\nprint(len(Devices_Month.columns))\n#Devices_Month.select('Sum_Tipo_Viaje_A_dist_%', 'Sum_Tipo_Viaje_B_dist_%', 'Sum_Tipo_Viaje_C_dist_%', 'Sum_Tipo_Viaje_D_dist_%').show()"
        },
        {
            "cell_type": "markdown",
            "metadata": {},
            "source": "### Save the final data set"
        },
        {
            "cell_type": "code",
            "execution_count": null,
            "metadata": {},
            "outputs": [],
            "source": "#Dev_Facts_pandas = Devices_Month.toPandas()\n#print(\"************* Done *************\")"
        },
        {
            "cell_type": "code",
            "execution_count": 36,
            "metadata": {},
            "outputs": [],
            "source": "name = \"Device_Facts_Final_18_nov_2019\"\nDevices_Month.write.parquet(local_cos.url(name , local_bucket), mode = 'overwrite')"
        },
        {
            "cell_type": "code",
            "execution_count": 37,
            "metadata": {},
            "outputs": [
                {
                    "name": "stdout",
                    "output_type": "stream",
                    "text": "************* Done *************\n"
                }
            ],
            "source": "\n\n#save clean data frame of totals\nname = \"Device_Facts_Final_18_nov_2019.csv\"\nproject.save_data(name, df_test.to_csv(index=False, header = True), overwrite=True)\nprint(\"************* Done *************\")\n"
        },
        {
            "cell_type": "code",
            "execution_count": null,
            "metadata": {},
            "outputs": [],
            "source": ""
        },
        {
            "cell_type": "code",
            "execution_count": null,
            "metadata": {},
            "outputs": [],
            "source": ""
        }
    ],
    "metadata": {
        "kernelspec": {
            "display_name": "Python 3.6",
            "language": "python",
            "name": "python3"
        },
        "language_info": {
            "codemirror_mode": {
                "name": "ipython",
                "version": 3
            },
            "file_extension": ".py",
            "mimetype": "text/x-python",
            "name": "python",
            "nbconvert_exporter": "python",
            "pygments_lexer": "ipython3",
            "version": "3.6.8"
        }
    },
    "nbformat": 4,
    "nbformat_minor": 1
}