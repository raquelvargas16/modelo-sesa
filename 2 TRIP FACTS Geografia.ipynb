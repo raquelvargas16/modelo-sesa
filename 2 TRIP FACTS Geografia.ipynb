{
    "cells": [
        {
            "cell_type": "code",
            "execution_count": 1,
            "metadata": {},
            "outputs": [
                {
                    "name": "stdout",
                    "output_type": "stream",
                    "text": "Waiting for a Spark session to start...\nSpark Initialization Done! ApplicationId = app-20191022174824-0000\nKERNEL_ID = 550115ca-6dad-4079-a9ff-bebaaeff8551\n"
                }
            ],
            "source": "# The code was removed by Watson Studio for sharing."
        },
        {
            "cell_type": "markdown",
            "metadata": {
                "collapsed": true
            },
            "source": "# <center>Compute Telemtry Facts</center>\n\nIn this notebook we will see how to compute the trip facts from telemetry points stored in SESA's bucket for raw telemetry. We will load telemetry from October 2018 to May 2019 and perform mathematical operations to summarise a trip.\n\nFirst, let's load the needed libraries."
        },
        {
            "cell_type": "code",
            "execution_count": 2,
            "metadata": {},
            "outputs": [],
            "source": "# Spark required imports\nfrom pyspark.sql import SparkSession\nfrom pyspark.sql import types\nfrom pyspark.sql import Window\nfrom pyspark.sql.types import *\nimport pyspark.sql.functions as F\nfrom pyspark.sql.functions import when\n\n# Import seaborn and matplotlib for data exploration/visialization.\n#!pip install --upgrade seaborn\n\nimport seaborn as sns\nimport matplotlib.pyplot as plt\nimport pandas as pd\nimport numpy as np\nfrom sklearn.preprocessing import StandardScaler\nfrom sklearn.decomposition import PCA\n#import pixiedust\n\n# Access to IBM Cloud Object Storage\nimport ibmos2spark\nimport types\nimport pandas as pd\nfrom botocore.client import Config\nimport ibm_boto3\n\n# Python Utilities\nfrom datetime import datetime\n\n# JSON\nimport json\n\n# pandas options \npd.options.display.max_rows = 999\npd.set_option('float_format', '{:f}'.format)"
        },
        {
            "cell_type": "markdown",
            "metadata": {},
            "source": "## Service Credentials"
        },
        {
            "cell_type": "code",
            "execution_count": 3,
            "metadata": {},
            "outputs": [],
            "source": "# The code was removed by Watson Studio for sharing."
        },
        {
            "cell_type": "markdown",
            "metadata": {},
            "source": "## Load telemetry by month"
        },
        {
            "cell_type": "code",
            "execution_count": 4,
            "metadata": {},
            "outputs": [
                {
                    "name": "stdout",
                    "output_type": "stream",
                    "text": "3202976\n"
                }
            ],
            "source": "Trips = spark.read.parquet(local_cos.url(\"TripFacts_V5_Omar_clean\", local_bucket))\nprint(Trips.count())"
        },
        {
            "cell_type": "code",
            "execution_count": 5,
            "metadata": {},
            "outputs": [
                {
                    "data": {
                        "text/plain": "3174941"
                    },
                    "execution_count": 5,
                    "metadata": {},
                    "output_type": "execute_result"
                }
            ],
            "source": "Trips = Trips[Trips.DeviceId.isin([32347, 32248, 36605, 32142, 36080, 36218, 35690, 29931, 41016,37458, 40013, 34055, 30706, 31677, 30919, 32551, 32508, 34485,\n       31536, 36584, 29899, 36761, 37211, 29635, 40948, 34828, 38988,31202, 40568, 38340, 29903, 30579, 31195, 30770, 41487, 41887,\n       43377, 41591, 32266, 30259, 42116, 35797, 35819, 35039, 34285, 33493, 41414, 43278, 42813, 36143, 30487, 27940, 40197, 31421,\n       29369, 39383, 29619, 33347, 36216, 38635, 31664]) == False]\n\nTrips.count()"
        },
        {
            "cell_type": "code",
            "execution_count": 6,
            "metadata": {
                "scrolled": true
            },
            "outputs": [
                {
                    "name": "stdout",
                    "output_type": "stream",
                    "text": "+----------------------+----------+----------+----------+---------+----------+------------+\n|ADM3_ES               |ADM3_PCODE|ADM2_ES   |ADM2_PCODE|ADM1_ES  |ADM1_PCODE|ADM0_ES     |\n+----------------------+----------+----------+----------+---------+----------+------------+\n|Alangasi              |EC170151  |Quito     |EC1701    |Pichincha|EC17      |Ecuador (el)|\n|Aloag                 |EC170351  |Mejia     |EC1703    |Pichincha|EC17      |Ecuador (el)|\n|Aloasi                |EC170352  |Mejia     |EC1703    |Pichincha|EC17      |Ecuador (el)|\n|Amagua\u00c3\u00b1a             |EC170152  |Quito     |EC1701    |Pichincha|EC17      |Ecuador (el)|\n|Ascazubi              |EC170251  |Cayambe   |EC1702    |Pichincha|EC17      |Ecuador (el)|\n|Atahualpa (Habaspamba)|EC170153  |Quito     |EC1701    |Pichincha|EC17      |Ecuador (el)|\n|Calacali              |EC170154  |Quito     |EC1701    |Pichincha|EC17      |Ecuador (el)|\n|Calderon (Carapungo)  |EC170155  |Quito     |EC1701    |Pichincha|EC17      |Ecuador (el)|\n|Cangahua              |EC170252  |Cayambe   |EC1702    |Pichincha|EC17      |Ecuador (el)|\n|Cayambe               |EC170250  |Cayambe   |EC1702    |Pichincha|EC17      |Ecuador (el)|\n|Chavezpamba           |EC170158  |Quito     |EC1701    |Pichincha|EC17      |Ecuador (el)|\n|Checa (Chilpa)        |EC170159  |Quito     |EC1701    |Pichincha|EC17      |Ecuador (el)|\n|Conocoto              |EC170156  |Quito     |EC1701    |Pichincha|EC17      |Ecuador (el)|\n|Cotogchoa             |EC170551  |Rumi\u00c3\u00b0ahui|EC1705    |Pichincha|EC17      |Ecuador (el)|\n|Cumbaya               |EC170157  |Quito     |EC1701    |Pichincha|EC17      |Ecuador (el)|\n|Cutuglahua            |EC170353  |Mejia     |EC1703    |Pichincha|EC17      |Ecuador (el)|\n|El Chaupi             |EC170354  |Mejia     |EC1703    |Pichincha|EC17      |Ecuador (el)|\n|El Quinche            |EC170160  |Quito     |EC1701    |Pichincha|EC17      |Ecuador (el)|\n|Gualea                |EC170161  |Quito     |EC1701    |Pichincha|EC17      |Ecuador (el)|\n|Guangopolo            |EC170162  |Quito     |EC1701    |Pichincha|EC17      |Ecuador (el)|\n+----------------------+----------+----------+----------+---------+----------+------------+\nonly showing top 20 rows\n\n"
                }
            ],
            "source": "#Load GEOJSON\n\nEcuador_geo = spark.read.json(local_cos.url(\"ecu_admbda_adm3_inec_20190724.json.geojson\", local_bucket))\nEcuador_geo= Ecuador_geo.select(\"properties.ADM3_ES\",\"properties.ADM3_PCODE\",\"properties.ADM2_ES\",\"properties.ADM2_PCODE\",\"properties.ADM1_ES\",\"properties.ADM1_PCODE\",\"properties.ADM0_ES\")\nEcuador_geo= Ecuador_geo.where(F.col(\"ADM3_PCODE\").isNotNull())\nEcuador_geo.where(F.col(\"ADM1_ES\")=='Pichincha').show(truncate = False)"
        },
        {
            "cell_type": "markdown",
            "metadata": {},
            "source": "### Read trips with geographic information "
        },
        {
            "cell_type": "code",
            "execution_count": null,
            "metadata": {},
            "outputs": [],
            "source": "#Geografia_Enero = spark.read\\\n#  .format('org.apache.spark.sql.execution.datasources.csv.CSVFileFormat')\\\n#  .option('header', 'true')\\\n#  .option('inferSchema', 'true')\\\n#  .load(local_cos.url('ResultGeoData_1.csv', local_bucket))\n#print(Geografia_Enero.count())\n\n#Geografia_Febrero = spark.read\\\n#  .format('org.apache.spark.sql.execution.datasources.csv.CSVFileFormat')\\\n#  .option('header', 'true')\\\n#  .option('inferSchema', 'true')\\\n#  .load(local_cos.url('ResultGeoData_2.csv', local_bucket))\n#print(Geografia_Febrero.count())\n\n#Geografia_Marzo = spark.read\\\n#  .format('org.apache.spark.sql.execution.datasources.csv.CSVFileFormat')\\\n#  .option('header', 'true')\\\n#  .option('inferSchema', 'true')\\\n#  .load(local_cos.url('ResultGeoData_3.csv', local_bucket))\n#print(Geografia_Marzo.count())\n\n#Geografia_Abril = spark.read\\\n#  .format('org.apache.spark.sql.execution.datasources.csv.CSVFileFormat')\\\n#  .option('header', 'true')\\\n#  .option('inferSchema', 'true')\\\n#  .load(local_cos.url('ResultGeoData_4.csv', local_bucket))\n#print(Geografia_Abril.count())\n\n\n#Geografia_Mayo = spark.read\\\n#  .format('org.apache.spark.sql.execution.datasources.csv.CSVFileFormat')\\\n#  .option('header', 'true')\\\n#  .option('inferSchema', 'true')\\\n#  .load(local_cos.url('ResultGeoData_5.csv', local_bucket))\n#print(Geografia_Mayo.count())\n\n\n#Geografia_Junio = spark.read\\\n#  .format('org.apache.spark.sql.execution.datasources.csv.CSVFileFormat')\\\n#  .option('header', 'true')\\\n#  .option('inferSchema', 'true')\\\n#  .load(local_cos.url('ResultGeoData_6.csv', local_bucket))\n#print(Geografia_Junio.count())\n\n\n#Geografia_Julio = spark.read\\\n#  .format('org.apache.spark.sql.execution.datasources.csv.CSVFileFormat')\\\n#  .option('header', 'true')\\\n#  .option('inferSchema', 'true')\\\n#  .load(local_cos.url('ResultGeoData_7.csv', local_bucket))\n#print(Geografia_Julio.count())\n\n\n#Geografia_Agosto = spark.read\\\n#  .format('org.apache.spark.sql.execution.datasources.csv.CSVFileFormat')\\\n#  .option('header', 'true')\\\n#  .option('inferSchema', 'true')\\\n#  .load(local_cos.url('ResultGeoData_8.csv', local_bucket))\n#print(Geografia_Agosto.count())\n\n#Geografia_Septiembre = spark.read\\\n#  .format('org.apache.spark.sql.execution.datasources.csv.CSVFileFormat')\\\n#  .option('header', 'true')\\\n#  .option('inferSchema', 'true')\\\n#  .load(local_cos.url('ResultGeoData_9.csv', local_bucket))\n#print(Geografia_Septiembre.count())\n\nGeografia = spark.read\\\n  .format('org.apache.spark.sql.execution.datasources.csv.CSVFileFormat')\\\n  .option('header', 'true')\\\n  .option('inferSchema', 'true')\\\n  .load(local_cos.url('ResultGeoData_full.csv',local_bucket))\nGeografia.count()"
        },
        {
            "cell_type": "code",
            "execution_count": 8,
            "metadata": {},
            "outputs": [
                {
                    "name": "stdout",
                    "output_type": "stream",
                    "text": "+--------+--------+------------+-----------+-------------+------------+--------+--------+\n|  TripID|DeviceId|Longitude_ON|Latitude_ON|Longitude_OFF|Latitude_OFF|   ON_ID|  OFF_ID|\n+--------+--------+------------+-----------+-------------+------------+--------+--------+\n|27866888|   39597|   -78.46661|   -0.06708|  -78.4987946|   -0.134649|EC170177|EC170150|\n|27866890|   39965| -79.4852753|  -3.314891|    -79.71637|   -3.327999|EC010650|EC070952|\n|27866892|   38115|   -80.39758|  -2.635217|    -80.39264|   -2.636378|EC092150|EC092150|\n|27866900|   30931|   -79.92662|  -2.199337|    -79.93083|   -2.198119|EC090150|EC090150|\n|27866904|   35404|   -78.55334|  -0.334128|  -78.4696045|   -0.191106|EC170150|EC170150|\n|27866907|   37775| -80.0097656|   -2.18636|    -79.89834|   -2.170095|EC090150|EC090150|\n|27866919|   39351|   -79.05156|  -2.920258|    -78.95212|   -2.884877|EC010150|EC010150|\n|27866928|   35639|   -78.44177|  -0.009574|    -78.49089|   -0.106988|EC170180|EC170150|\n|27866930|   40540| -79.6472244|   -2.81031|     -79.6426|   -2.826256|EC091150|EC011551|\n|27866932|   38823| -78.4669647|  -0.087396|  -78.4533844|   -0.042398|EC170150|EC170177|\n|27866935|   39799|   -79.88101|  -2.051535|    -79.94651|   -2.164712|EC090650|EC090150|\n|27866940|   39018|   -77.81787|  -0.985509|    -77.81359|   -0.991713|EC150150|EC150150|\n|27866947|   37421|   -78.96115|  -2.893692|    -79.00944|    -2.91295|EC010150|EC010150|\n|27866948|   35500|   -78.48328|  -0.204362|    -78.46764|   -0.124586|EC170150|EC170150|\n|27866951|   40549| -79.9136658|  -2.144764|    -79.83111|   -2.155907|EC090150|EC090750|\n|27866954|   39014|   -79.89469|  -2.162823|    -79.96238|   -2.194057|EC090150|EC090150|\n|27866958|   39631|   -78.99856|  -2.910111|    -79.06471|   -2.920091|EC010150|EC010151|\n|27866965|   38794|   -78.46067|  -0.155186|     -78.4848|   -0.169572|EC170150|EC170150|\n|27866969|   28688|  -78.544426|  -0.295304|  -78.5445557|   -0.299376|EC170150|EC170150|\n|27866974|   39402|   -78.50509|  -0.376494|    -78.51862|    -0.39897|EC170152|EC170152|\n+--------+--------+------------+-----------+-------------+------------+--------+--------+\nonly showing top 20 rows\n\n"
                }
            ],
            "source": "Geografia.show()"
        },
        {
            "cell_type": "code",
            "execution_count": 9,
            "metadata": {},
            "outputs": [],
            "source": "#Geografia = Geografia_Enero.union(Geografia_Febrero).union(Geografia_Marzo).union(Geografia_Abril).union(Geografia_Mayo).union(Geografia_Junio).union(Geografia_Julio).union(Geografia_Agosto)#.union(Geografia_Septiembre)\nGeografia = Geografia.select('DeviceId', 'TripID', 'ON_ID', 'OFF_ID')\nGeografia = Geografia.withColumn('ON_ID', F.regexp_replace(F.col('ON_ID'),\"[\\[\\]']\" , ''))\nGeografia = Geografia.withColumn('OFF_ID', F.regexp_replace(F.col('OFF_ID'),\"[\\[\\]']\" , ''))\n#Geografia.show()"
        },
        {
            "cell_type": "markdown",
            "metadata": {},
            "source": "Join geometry codes with trip facts data set."
        },
        {
            "cell_type": "code",
            "execution_count": 10,
            "metadata": {
                "scrolled": true
            },
            "outputs": [
                {
                    "name": "stdout",
                    "output_type": "stream",
                    "text": "+--------+--------+------------------+-------------------+------------------+-------------------+-------------------+--------+--------+--------------------+--------------------+------------------+-------+-------+------------------+-------------------+-----------+------------+-------------------+------------+-------------+-------------------+-----------+-------+-------+-----+----------+--------+--------+------------+-------+--------+------------+-------+--------+\n|DeviceId|  TripID|           Dist_km|         Duration_h|       DistanciaST|       DuracionST_h|           Dur_50_h|Dur_70_h|Dur_80_h|            Dur_90_h|           Dur_100_h|           Dist_50|Dist_70|Dist_80|           Dist_90|           Dist_100|Latitude_ON|Longitude_ON|         EC_Time_ON|Latitude_OFF|Longitude_OFF|        EC_Time_OFF|    DayTime|DayType|DayWeek|Month|      Date|   ON_ID|  OFF_ID|       ON_N3|  ON_N2|   ON_N1|      OFF_N3| OFF_N2|  OFF_N1|\n+--------+--------+------------------+-------------------+------------------+-------------------+-------------------+--------+--------+--------------------+--------------------+------------------+-------+-------+------------------+-------------------+-----------+------------+-------------------+------------+-------------+-------------------+-----------+-------+-------+-----+----------+--------+--------+------------+-------+--------+------------+-------+--------+\n|   35965|29721040| 6.600000000005821|0.20083333333333334| 6.600000000005821|0.20083333333333334|0.07805555555555556|     0.0|     0.0| 0.12277777777777778|                 0.0| 3.000000000029104|    0.0|    0.0| 3.599999999976717|                0.0|   0.859988|   -78.06402|2019-08-12 16:44:09|    0.831725|    -78.05249|2019-08-12 16:56:12|Tarde 15-18|Weekday|      1|    8|2019-08-12|EC040154|EC040154|   Maldonado| Tulcan|  Carchi|   Maldonado| Tulcan|  Carchi|\n|   35965|29720297| 5.899999999994179| 0.2688888888888889| 5.899999999994179| 0.2688888888888889|              0.225|     0.0|     0.0| 0.04388888888888889|                 0.0| 4.499999999970896|    0.0|    0.0| 1.400000000023283|                0.0|    0.92635|   -78.14103|2019-08-12 15:35:48|    0.913403|    -78.10753|2019-08-12 15:51:56|Tarde 15-18|Weekday|      1|    8|2019-08-12|EC040154|EC040154|   Maldonado| Tulcan|  Carchi|   Maldonado| Tulcan|  Carchi|\n|   35965|29718257| 5.899999999994179|0.21083333333333334| 5.899999999994179|0.21083333333333334|0.16944444444444445|     0.0|     0.0| 0.04138888888888889|                 0.0| 4.600000000034925|    0.0|    0.0|1.2999999999592546|                0.0|   0.913743| -78.1072159|2019-08-11 13:46:43|    0.925979|    -78.14144|2019-08-11 13:59:22|Tarde 12-15|Weekend|      7|    8|2019-08-11|EC040154|EC040154|   Maldonado| Tulcan|  Carchi|   Maldonado| Tulcan|  Carchi|\n|   35965|29717296|3.8000000000174623|0.14527777777777778|3.8000000000174623|0.14527777777777778|0.03888888888888889|     0.0|     0.0|  0.1063888888888889|                 0.0|1.1000000000058208|    0.0|    0.0|2.7000000000116415|                0.0|    0.83191|     -78.054|2019-08-11 11:24:15|    0.843107|    -78.06745|2019-08-11 11:32:58|Manana 9-12|Weekend|      7|    8|2019-08-11|EC040154|EC040154|   Maldonado| Tulcan|  Carchi|   Maldonado| Tulcan|  Carchi|\n|   35965|29720576|13.700000000011642| 0.4286111111111111|13.700000000011642| 0.4286111111111111|0.15833333333333333|     0.0|     0.0|  0.2702777777777778|                 0.0| 6.199999999953434|    0.0|    0.0| 7.500000000058208|                0.0|   0.913396| -78.1075058|2019-08-12 16:13:13|    0.859988|    -78.06402|2019-08-12 16:38:56|Tarde 15-18|Weekday|      1|    8|2019-08-12|EC040154|EC040154|   Maldonado| Tulcan|  Carchi|   Maldonado| Tulcan|  Carchi|\n|   35965|29717491|16.099999999976717| 0.5113888888888889|16.099999999976717| 0.5113888888888889|0.21722222222222223|     0.0|     0.0|  0.2941666666666667|                 0.0| 6.399999999877764|    0.0|    0.0| 9.700000000098953|                0.0|   0.843111|   -78.06746|2019-08-11 11:51:03|    0.913032|   -78.107254|2019-08-11 12:21:44|Tarde 12-15|Weekend|      7|    8|2019-08-11|EC040154|EC040154|   Maldonado| Tulcan|  Carchi|   Maldonado| Tulcan|  Carchi|\n|   35965|29720088|5.7000000000116415|0.25277777777777777|5.7000000000116415|0.25277777777777777| 0.2011111111111111|     0.0|     0.0|0.051666666666666666|                 0.0| 3.900000000052387|    0.0|    0.0|1.7999999999592546|                0.0|   0.936433| -78.1859055|2019-08-12 15:12:40|    0.926347|      -78.141|2019-08-12 15:27:50|Tarde 15-18|Weekday|      1|    8|2019-08-12|EC040159|EC040154|   El Chical| Tulcan|  Carchi|   Maldonado| Tulcan|  Carchi|\n|   39928|30091089| 12.19999999999709| 0.3063888888888889| 12.19999999999709| 0.3063888888888889|0.21027777777777779|     0.0|     0.0|  0.0961111111111111|                 0.0| 8.400000000023283|    0.0|    0.0|3.7999999999738066|                0.0|   0.936475| -78.1860657|2019-08-16 13:54:59|    0.909194|    -78.10334|2019-08-16 14:13:22|Tarde 12-15|Weekday|      5|    8|2019-08-16|EC040159|EC040154|   El Chical| Tulcan|  Carchi|   Maldonado| Tulcan|  Carchi|\n|   35965|29575550|              64.0|             1.6375|              64.0|             1.6375| 1.3180555555555555|     0.0|     0.0|  0.3194444444444444|                 0.0| 45.79999999998836|    0.0|    0.0| 18.20000000001164|                0.0|   0.819934|   -77.71271|2019-08-11 09:31:37|    0.831913|    -78.05403|2019-08-11 11:09:52|Manana 9-12|Weekend|      7|    8|2019-08-11|EC040150|EC040154|      Tulcan| Tulcan|  Carchi|   Maldonado| Tulcan|  Carchi|\n|   35111|18154542|18.800000000017462| 0.6747222222222222|18.800000000017462| 0.6747222222222222|0.27305555555555555|     0.0|     0.0|0.020555555555555556|  0.3811111111111111|3.6000000000058208|    0.0|    0.0|0.1999999999825377| 15.000000000029104|  -0.956401|   -79.42121|2019-03-09 17:32:31|   -0.956641|     -79.4213|2019-03-09 18:13:00|Noche 18-21|Weekend|      6|    3|2019-03-09|EC120555|EC120555|La Esperanza|Quevedo|Los Rios|La Esperanza|Quevedo|Los Rios|\n|   35111|27592199|0.8999999999941792|0.17416666666666666|0.8999999999941792|0.17416666666666666|0.10694444444444444|     0.0|     0.0| 0.06722222222222222|                 0.0|0.8999999999941792|    0.0|    0.0|               0.0|                0.0|  -0.956384|   -79.42123|2019-07-20 09:15:23|   -0.956641|    -79.42529|2019-07-20 09:25:50|Manana 9-12|Weekend|      6|    7|2019-07-20|EC120555|EC120555|La Esperanza|Quevedo|Los Rios|La Esperanza|Quevedo|Los Rios|\n|   33054|28285103|1.1999999999825377| 0.1836111111111111|1.1999999999825377| 0.1836111111111111|0.17027777777777778|     0.0|     0.0|                 0.0|0.013333333333333334|0.9999999999708962|    0.0|    0.0|               0.0|0.20000000001164153|  -0.964783|   -79.42047|2019-07-27 23:45:06|   -0.964797|  -79.4203949|2019-07-27 23:56:07|Noche 21-24|Weekend|      6|    7|2019-07-27|EC120555|EC120555|La Esperanza|Quevedo|Los Rios|La Esperanza|Quevedo|Los Rios|\n|   33054|18163961| 7.099999999976717|0.31305555555555553| 7.099999999976717|0.31305555555555553|0.16083333333333333|     0.0|     0.0|                 0.0| 0.15222222222222223|0.7000000000116415|    0.0|    0.0|               0.0|  6.399999999965075|  -0.964804|   -79.42039|2019-03-09 20:31:55|   -0.964881|     -79.4203|2019-03-09 20:50:42|Noche 18-21|Weekend|      6|    3|2019-03-09|EC120555|EC120555|La Esperanza|Quevedo|Los Rios|La Esperanza|Quevedo|Los Rios|\n|   33054|29019078|1.2000000000116415|0.10194444444444445|1.2000000000116415|0.10416666666666667|0.08055555555555556|     0.0|     0.0|                 0.0| 0.02361111111111111|0.3000000000174623|    0.0|    0.0|               0.0| 0.8999999999941792|  -0.964678|   -79.42051|2019-08-05 09:28:56|   -0.972249|    -79.42785|2019-08-05 09:35:03|Manana 9-12|Weekday|      1|    8|2019-08-05|EC120555|EC120555|La Esperanza|Quevedo|Los Rios|La Esperanza|Quevedo|Los Rios|\n|   37392|31712254|1.2999999999992724| 0.5669444444444445|1.2999999999992724| 0.5697222222222222| 0.5597222222222222|     0.0|     0.0|                0.01|                 0.0|1.1999999999989086|    0.0|    0.0|0.1000000000003638|                0.0|  -0.967739|    -79.4255|2019-09-02 11:15:56|   -0.960108|    -79.42307|2019-09-02 11:49:57|Manana 9-12|Weekday|      1|    9|2019-09-02|EC120555|EC120555|La Esperanza|Quevedo|Los Rios|La Esperanza|Quevedo|Los Rios|\n|   37392|24125270| 1.699999999999818|0.24944444444444444| 1.699999999999818|0.24944444444444444|               0.24|     0.0|     0.0|0.009444444444444445|                 0.0|1.5999999999994543|    0.0|    0.0|0.1000000000003638|                0.0|  -0.956526|   -79.42434|2019-06-07 19:41:59|   -0.965238|    -79.42363|2019-06-07 19:56:57|Noche 18-21|Weekday|      5|    6|2019-06-07|EC120555|EC120555|La Esperanza|Quevedo|Los Rios|La Esperanza|Quevedo|Los Rios|\n|   37392|31752923|0.8000000000010914|0.17583333333333334|0.8000000000010914|0.17583333333333334|0.17583333333333334|     0.0|     0.0|                 0.0|                 0.0|0.8000000000010914|    0.0|    0.0|               0.0|                0.0|  -0.954769|   -79.42697|2019-09-02 17:13:05|   -0.960127|     -79.4231|2019-09-02 17:23:38|Tarde 15-18|Weekday|      1|    9|2019-09-02|EC120555|EC120555|La Esperanza|Quevedo|Los Rios|La Esperanza|Quevedo|Los Rios|\n|   35111|32946320|0.8999999999941792|0.10222222222222223|0.8999999999941792|0.10222222222222223|0.08361111111111111|     0.0|     0.0| 0.01861111111111111|                 0.0|0.8999999999941792|    0.0|    0.0|               0.0|                0.0|  -0.956543|   -79.42529|2019-09-14 06:11:09|   -0.956561|    -79.42127|2019-09-14 06:17:17| Manana 6-9|Weekend|      6|    9|2019-09-14|EC120555|EC120555|La Esperanza|Quevedo|Los Rios|La Esperanza|Quevedo|Los Rios|\n|   37392|28300470|0.7999999999992724| 0.6069444444444444|0.7999999999992724| 0.6069444444444444| 0.6069444444444444|     0.0|     0.0|                 0.0|                 0.0|0.7999999999992724|    0.0|    0.0|               0.0|                0.0|  -0.960168|   -79.42329|2019-07-28 10:16:20|   -0.954725|  -79.4269943|2019-07-28 10:52:45|Manana 9-12|Weekend|      7|    7|2019-07-28|EC120555|EC120555|La Esperanza|Quevedo|Los Rios|La Esperanza|Quevedo|Los Rios|\n|   33054|18184526| 45.90000000002328| 1.7172222222222222| 45.90000000002328| 1.7197222222222222| 0.7222222222222222|     0.0|     0.0| 0.17972222222222223|  0.8177777777777778|11.900000000052387|    0.0|    0.0|1.1999999999825377|  32.79999999998836|  -0.964804|   -79.42038|2019-03-10 12:04:03|   -0.964754|    -79.42042|2019-03-10 13:47:05|Tarde 12-15|Weekend|      7|    3|2019-03-10|EC120555|EC120555|La Esperanza|Quevedo|Los Rios|La Esperanza|Quevedo|Los Rios|\n+--------+--------+------------------+-------------------+------------------+-------------------+-------------------+--------+--------+--------------------+--------------------+------------------+-------+-------+------------------+-------------------+-----------+------------+-------------------+------------+-------------+-------------------+-----------+-------+-------+-----+----------+--------+--------+------------+-------+--------+------------+-------+--------+\nonly showing top 20 rows\n\n"
                }
            ],
            "source": "# join\nTrips_Geog = Trips.join(Geografia, ['DeviceId', 'TripID'], 'inner')\nTrips_Geog = Trips_Geog.join(Ecuador_geo.selectExpr(\"ADM3_ES as ON_N3\",\"ADM2_ES as ON_N2\", \"ADM1_ES as ON_N1\", 'ADM3_PCODE'), Trips_Geog['ON_ID'] == Ecuador_geo[\"ADM3_PCODE\"], 'left_outer').drop(\"ADM3_PCODE\")\nTrips_Geog = Trips_Geog.join(Ecuador_geo.selectExpr(\"ADM3_ES as OFF_N3\",\"ADM2_ES as OFF_N2\", \"ADM1_ES as OFF_N1\", 'ADM3_PCODE'), Trips_Geog['OFF_ID'] == Ecuador_geo[\"ADM3_PCODE\"], 'left_outer').drop(\"ADM3_PCODE\")\nTrips_Geog.show()"
        },
        {
            "cell_type": "code",
            "execution_count": 11,
            "metadata": {
                "scrolled": true
            },
            "outputs": [
                {
                    "name": "stdout",
                    "output_type": "stream",
                    "text": "+--------+--------+------------------+-------------------+------------------+-------------------+--------------------+--------+-------------------+--------------------+-------------------+------------------+-------+------------------+------------------+------------------+-----------+------------+-------------------+------------+-------------+-------------------+-----------+-------+-------+-----+----------+--------+--------+--------------------+--------+--------+------------+-------+--------+--------------------+------------------+--------------------+\n|DeviceId|  TripID|           Dist_km|         Duration_h|       DistanciaST|       DuracionST_h|            Dur_50_h|Dur_70_h|           Dur_80_h|            Dur_90_h|          Dur_100_h|           Dist_50|Dist_70|           Dist_80|           Dist_90|          Dist_100|Latitude_ON|Longitude_ON|         EC_Time_ON|Latitude_OFF|Longitude_OFF|        EC_Time_OFF|    DayTime|DayType|DayWeek|Month|      Date|   ON_ID|  OFF_ID|               ON_N3|   ON_N2|   ON_N1|      OFF_N3| OFF_N2|  OFF_N1|ViajeInterparroquial|ViajeIntercantonal|ViajeInterprovincial|\n+--------+--------+------------------+-------------------+------------------+-------------------+--------------------+--------+-------------------+--------------------+-------------------+------------------+-------+------------------+------------------+------------------+-----------+------------+-------------------+------------+-------------+-------------------+-----------+-------+-------+-----+----------+--------+--------+--------------------+--------+--------+------------+-------+--------+--------------------+------------------+--------------------+\n|   35965|29575550|              64.0|             1.6375|              64.0|             1.6375|  1.3180555555555555|     0.0|                0.0|  0.3194444444444444|                0.0| 45.79999999998836|    0.0|               0.0| 18.20000000001164|               0.0|   0.819934|   -77.71271|2019-08-11 09:31:37|    0.831913|    -78.05403|2019-08-11 11:09:52|Manana 9-12|Weekend|      7|    8|2019-08-11|EC040150|EC040154|              Tulcan|  Tulcan|  Carchi|   Maldonado| Tulcan|  Carchi|                   1|                 0|                   0|\n|   39928|30091089| 12.19999999999709| 0.3063888888888889| 12.19999999999709| 0.3063888888888889| 0.21027777777777779|     0.0|                0.0|  0.0961111111111111|                0.0| 8.400000000023283|    0.0|               0.0|3.7999999999738066|               0.0|   0.936475| -78.1860657|2019-08-16 13:54:59|    0.909194|    -78.10334|2019-08-16 14:13:22|Tarde 12-15|Weekday|      5|    8|2019-08-16|EC040159|EC040154|           El Chical|  Tulcan|  Carchi|   Maldonado| Tulcan|  Carchi|                   1|                 0|                   0|\n|   35965|29720088|5.7000000000116415|0.25277777777777777|5.7000000000116415|0.25277777777777777|  0.2011111111111111|     0.0|                0.0|0.051666666666666666|                0.0| 3.900000000052387|    0.0|               0.0|1.7999999999592546|               0.0|   0.936433| -78.1859055|2019-08-12 15:12:40|    0.926347|      -78.141|2019-08-12 15:27:50|Tarde 15-18|Weekday|      1|    8|2019-08-12|EC040159|EC040154|           El Chical|  Tulcan|  Carchi|   Maldonado| Tulcan|  Carchi|                   1|                 0|                   0|\n|   35965|29721040| 6.600000000005821|0.20083333333333334| 6.600000000005821|0.20083333333333334| 0.07805555555555556|     0.0|                0.0| 0.12277777777777778|                0.0| 3.000000000029104|    0.0|               0.0| 3.599999999976717|               0.0|   0.859988|   -78.06402|2019-08-12 16:44:09|    0.831725|    -78.05249|2019-08-12 16:56:12|Tarde 15-18|Weekday|      1|    8|2019-08-12|EC040154|EC040154|           Maldonado|  Tulcan|  Carchi|   Maldonado| Tulcan|  Carchi|                   0|                 0|                   0|\n|   35965|29720297| 5.899999999994179| 0.2688888888888889| 5.899999999994179| 0.2688888888888889|               0.225|     0.0|                0.0| 0.04388888888888889|                0.0| 4.499999999970896|    0.0|               0.0| 1.400000000023283|               0.0|    0.92635|   -78.14103|2019-08-12 15:35:48|    0.913403|    -78.10753|2019-08-12 15:51:56|Tarde 15-18|Weekday|      1|    8|2019-08-12|EC040154|EC040154|           Maldonado|  Tulcan|  Carchi|   Maldonado| Tulcan|  Carchi|                   0|                 0|                   0|\n|   35965|29718257| 5.899999999994179|0.21083333333333334| 5.899999999994179|0.21083333333333334| 0.16944444444444445|     0.0|                0.0| 0.04138888888888889|                0.0| 4.600000000034925|    0.0|               0.0|1.2999999999592546|               0.0|   0.913743| -78.1072159|2019-08-11 13:46:43|    0.925979|    -78.14144|2019-08-11 13:59:22|Tarde 12-15|Weekend|      7|    8|2019-08-11|EC040154|EC040154|           Maldonado|  Tulcan|  Carchi|   Maldonado| Tulcan|  Carchi|                   0|                 0|                   0|\n|   35965|29717296|3.8000000000174623|0.14527777777777778|3.8000000000174623|0.14527777777777778| 0.03888888888888889|     0.0|                0.0|  0.1063888888888889|                0.0|1.1000000000058208|    0.0|               0.0|2.7000000000116415|               0.0|    0.83191|     -78.054|2019-08-11 11:24:15|    0.843107|    -78.06745|2019-08-11 11:32:58|Manana 9-12|Weekend|      7|    8|2019-08-11|EC040154|EC040154|           Maldonado|  Tulcan|  Carchi|   Maldonado| Tulcan|  Carchi|                   0|                 0|                   0|\n|   35965|29720576|13.700000000011642| 0.4286111111111111|13.700000000011642| 0.4286111111111111| 0.15833333333333333|     0.0|                0.0|  0.2702777777777778|                0.0| 6.199999999953434|    0.0|               0.0| 7.500000000058208|               0.0|   0.913396| -78.1075058|2019-08-12 16:13:13|    0.859988|    -78.06402|2019-08-12 16:38:56|Tarde 15-18|Weekday|      1|    8|2019-08-12|EC040154|EC040154|           Maldonado|  Tulcan|  Carchi|   Maldonado| Tulcan|  Carchi|                   0|                 0|                   0|\n|   35965|29717491|16.099999999976717| 0.5113888888888889|16.099999999976717| 0.5113888888888889| 0.21722222222222223|     0.0|                0.0|  0.2941666666666667|                0.0| 6.399999999877764|    0.0|               0.0| 9.700000000098953|               0.0|   0.843111|   -78.06746|2019-08-11 11:51:03|    0.913032|   -78.107254|2019-08-11 12:21:44|Tarde 12-15|Weekend|      7|    8|2019-08-11|EC040154|EC040154|           Maldonado|  Tulcan|  Carchi|   Maldonado| Tulcan|  Carchi|                   0|                 0|                   0|\n|   41667|30741122|              28.0| 0.5319444444444444|              28.0| 0.5319444444444444|0.029722222222222223|     0.0|0.16694444444444445| 0.04111111111111111| 0.2941666666666667| 1.000000000014552|    0.0| 10.69999999999709|0.8999999999941792| 15.39999999999418|  -0.967407|   -79.55522|2019-08-23 13:02:00|   -0.969326|    -79.42559|2019-08-23 13:33:55|Tarde 12-15|Weekday|      5|    8|2019-08-23|EC090851|EC120555|Guayas (Pueblo Nu...| Empalme|  Guayas|La Esperanza|Quevedo|Los Rios|                   1|                 1|                   1|\n|   41667|30908820| 28.80000000000291| 0.5738888888888889| 28.80000000000291| 0.5761111111111111| 0.10916666666666666|     0.0|0.19166666666666668|0.021666666666666667| 0.2536111111111111|               1.5|    0.0|10.799999999988358|               1.0|15.500000000014552|  -0.968684|   -79.55426|2019-08-25 08:12:54|    -0.96942|  -79.4256439|2019-08-25 08:47:20| Manana 6-9|Weekend|      7|    8|2019-08-25|EC090851|EC120555|Guayas (Pueblo Nu...| Empalme|  Guayas|La Esperanza|Quevedo|Los Rios|                   1|                 1|                   1|\n|   37748|28305726| 19.80000000000291| 0.4027777777777778| 19.80000000000291|0.40555555555555556|0.010833333333333334|     0.0|                0.0|                 0.0| 0.3947222222222222|0.1999999999825377|    0.0|               0.0|               0.0|19.600000000020373|  -0.943269|   -79.25337|2019-07-28 11:23:21|   -0.965512|    -79.42232|2019-07-28 11:47:31|Manana 9-12|Weekend|      7|    7|2019-07-28|EC050250|EC120555|             La Mana| La Mana|Cotopaxi|La Esperanza|Quevedo|Los Rios|                   1|                 1|                   1|\n|   36794|32589057| 22.79999999998836| 0.6419444444444444| 22.79999999998836| 0.6419444444444444| 0.03972222222222222|     0.0|                0.0|                 0.0| 0.6022222222222222|0.3999999999650754|    0.0|               0.0|               0.0|22.400000000023283|  -0.942193|   -79.23431|2019-09-10 18:05:59|   -0.969297|    -79.42541|2019-09-10 18:44:30|Noche 18-21|Weekday|      2|    9|2019-09-10|EC050250|EC120555|             La Mana| La Mana|Cotopaxi|La Esperanza|Quevedo|Los Rios|                   1|                 1|                   1|\n|   38277|24081708|              24.5| 0.6905555555555556|              24.5| 0.6905555555555556| 0.22083333333333333|     0.0|                0.0|                 0.0| 0.4697222222222222|               2.5|    0.0|               0.0|               0.0|              22.0|  -0.941157| -79.2229843|2019-06-07 11:43:31|   -0.967425|    -79.42423|2019-06-07 12:24:57|Tarde 12-15|Weekday|      5|    6|2019-06-07|EC050250|EC120555|             La Mana| La Mana|Cotopaxi|La Esperanza|Quevedo|Los Rios|                   1|                 1|                   1|\n|   41001|33179622|15.799999999999727|0.32083333333333336|15.799999999999727| 0.3227777777777778|0.009444444444444445|     0.0|                0.0|                 0.0|0.31333333333333335|               0.0|    0.0|               0.0|               0.0|15.799999999999727|  -0.944397|    -79.2778|2019-09-16 13:08:16|   -0.958387|    -79.41295|2019-09-16 13:27:31|Tarde 12-15|Weekday|      1|    9|2019-09-16|EC050250|EC120555|             La Mana| La Mana|Cotopaxi|La Esperanza|Quevedo|Los Rios|                   1|                 1|                   1|\n|   32031|16654201| 23.60000000000582| 0.5586111111111111| 23.60000000000582| 0.5611111111111111| 0.09222222222222222|     0.0|                0.0|                 0.0| 0.4688888888888889|2.1000000000058208|    0.0|               0.0|               0.0|              21.5|  -0.940641| -79.2221146|2019-02-09 17:03:39|   -0.964976|    -79.42169|2019-02-09 17:37:10|Tarde 15-18|Weekend|      6|    2|2019-02-09|EC050250|EC120555|             La Mana| La Mana|Cotopaxi|La Esperanza|Quevedo|Los Rios|                   1|                 1|                   1|\n|   29862|20580406| 28.10000000000582| 0.5838888888888889| 28.10000000000582| 0.5838888888888889|  0.1947222222222222|     0.0|                0.0|                 0.0|0.38916666666666666|6.2000000000116415|    0.0|               0.0|               0.0| 21.89999999999418|  -1.183595| -79.4403458|2019-04-18 16:20:49|   -0.964518|    -79.42129|2019-04-18 16:55:51|Tarde 15-18|Weekday|      4|    4|2019-04-18|EC121250|EC120555|             Mocache| Mocache|Los Rios|La Esperanza|Quevedo|Los Rios|                   1|                 1|                   0|\n|   29862|20505098|              27.0| 0.6752777777777778|              27.0| 0.6752777777777778| 0.35805555555555557|     0.0|                0.0|                 0.0|0.31722222222222224| 6.399999999994179|    0.0|               0.0|               0.0| 20.60000000000582|  -1.185619|   -79.44198|2019-04-17 14:58:17|   -0.973231|    -79.43157|2019-04-17 15:38:48|Tarde 15-18|Weekday|      3|    4|2019-04-17|EC121250|EC120555|             Mocache| Mocache|Los Rios|La Esperanza|Quevedo|Los Rios|                   1|                 1|                   0|\n|   35111|20251889|10.199999999982538| 0.2538888888888889|10.199999999982538| 0.2538888888888889|  0.1713888888888889|     0.0|                0.0|0.001666666666666...|0.08083333333333333|3.6999999999825377|    0.0|               0.0|               0.0|               6.5|  -0.941883|   -79.35378|2019-04-13 13:18:26|   -0.956616|    -79.42131|2019-04-13 13:33:40|Tarde 12-15|Weekend|      6|    4|2019-04-13|EC121150|EC120555|            Valencia|Valencia|Los Rios|La Esperanza|Quevedo|Los Rios|                   1|                 1|                   0|\n|   35111|25928200| 30.79999999998836| 0.7944444444444444| 30.79999999998836| 0.7944444444444444|  0.5419444444444445|     0.0|                0.0|0.001666666666666...|0.25083333333333335|18.199999999982538|    0.0|               0.0|               0.0| 12.60000000000582|   -0.81876|   -79.28149|2019-06-30 17:38:04|   -0.956412|    -79.42122|2019-06-30 18:25:44|Noche 18-21|Weekend|      7|    6|2019-06-30|EC121150|EC120555|            Valencia|Valencia|Los Rios|La Esperanza|Quevedo|Los Rios|                   1|                 1|                   0|\n+--------+--------+------------------+-------------------+------------------+-------------------+--------------------+--------+-------------------+--------------------+-------------------+------------------+-------+------------------+------------------+------------------+-----------+------------+-------------------+------------+-------------+-------------------+-----------+-------+-------+-----+----------+--------+--------+--------------------+--------+--------+------------+-------+--------+--------------------+------------------+--------------------+\nonly showing top 20 rows\n\n"
                }
            ],
            "source": "Trips_Geog = Trips_Geog.withColumn('ViajeInterparroquial', F.when(F.col('ON_N3')==F.col('OFF_N3'), 0).otherwise(1))\nTrips_Geog = Trips_Geog.withColumn('ViajeIntercantonal', F.when(F.col('ON_N2')==F.col('OFF_N2'), 0).otherwise(1))\nTrips_Geog = Trips_Geog.withColumn('ViajeInterprovincial', F.when(F.col('ON_N1')==F.col('OFF_N1'), 0).otherwise(1))\nTrips_Geog.show()"
        },
        {
            "cell_type": "code",
            "execution_count": 12,
            "metadata": {},
            "outputs": [
                {
                    "data": {
                        "text/plain": "3174941"
                    },
                    "execution_count": 12,
                    "metadata": {},
                    "output_type": "execute_result"
                }
            ],
            "source": "Trips_Geog.count()"
        },
        {
            "cell_type": "code",
            "execution_count": 6,
            "metadata": {
                "scrolled": true
            },
            "outputs": [],
            "source": "# Save data\nTrips_Geog.write.parquet(local_cos.url(\"TripFacts5_Geo\", local_bucket), mode = 'overwrite')\nproject.save_data('Datos_Geo.csv', Trips_Geog.toPandas().to_csv(header=True, index=False), overwrite = True) "
        },
        {
            "cell_type": "code",
            "execution_count": 4,
            "metadata": {},
            "outputs": [],
            "source": "Trips_Geog = spark.read.parquet(local_cos.url(\"TripFacts5_Geo\", local_bucket))"
        },
        {
            "cell_type": "code",
            "execution_count": 5,
            "metadata": {},
            "outputs": [
                {
                    "name": "stdout",
                    "output_type": "stream",
                    "text": "root\n |-- DeviceId: long (nullable = true)\n |-- TripID: long (nullable = true)\n |-- Dist_km: double (nullable = true)\n |-- Duration_h: double (nullable = true)\n |-- DistanciaST: double (nullable = true)\n |-- DuracionST_h: double (nullable = true)\n |-- Dur_50_h: double (nullable = true)\n |-- Dur_70_h: double (nullable = true)\n |-- Dur_80_h: double (nullable = true)\n |-- Dur_90_h: double (nullable = true)\n |-- Dur_100_h: double (nullable = true)\n |-- Dist_50: double (nullable = true)\n |-- Dist_70: double (nullable = true)\n |-- Dist_80: double (nullable = true)\n |-- Dist_90: double (nullable = true)\n |-- Dist_100: double (nullable = true)\n |-- Latitude_ON: double (nullable = true)\n |-- Longitude_ON: double (nullable = true)\n |-- EC_Time_ON: timestamp (nullable = true)\n |-- Latitude_OFF: double (nullable = true)\n |-- Longitude_OFF: double (nullable = true)\n |-- EC_Time_OFF: timestamp (nullable = true)\n |-- DayTime: string (nullable = true)\n |-- DayType: string (nullable = true)\n |-- DayWeek: string (nullable = true)\n |-- Month: string (nullable = true)\n |-- Date: date (nullable = true)\n |-- ON_ID: string (nullable = true)\n |-- OFF_ID: string (nullable = true)\n |-- ON_N3: string (nullable = true)\n |-- ON_N2: string (nullable = true)\n |-- ON_N1: string (nullable = true)\n |-- OFF_N3: string (nullable = true)\n |-- OFF_N2: string (nullable = true)\n |-- OFF_N1: string (nullable = true)\n |-- ViajeInterparroquial: integer (nullable = true)\n |-- ViajeIntercantonal: integer (nullable = true)\n |-- ViajeInterprovincial: integer (nullable = true)\n\n"
                }
            ],
            "source": "Trips_Geog.printSchema()"
        }
    ],
    "metadata": {
        "kernelspec": {
            "display_name": "Python 3.6",
            "language": "python",
            "name": "python3"
        },
        "language_info": {
            "codemirror_mode": {
                "name": "ipython",
                "version": 3
            },
            "file_extension": ".py",
            "mimetype": "text/x-python",
            "name": "python",
            "nbconvert_exporter": "python",
            "pygments_lexer": "ipython3",
            "version": "3.6.8"
        }
    },
    "nbformat": 4,
    "nbformat_minor": 1
}